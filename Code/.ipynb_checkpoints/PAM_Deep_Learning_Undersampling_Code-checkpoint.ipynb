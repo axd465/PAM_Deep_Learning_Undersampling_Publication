{
 "cells": [
  {
   "cell_type": "markdown",
   "metadata": {
    "colab_type": "text",
    "id": "Gbm1akwjiMW1"
   },
   "source": [
    "## If Running In Colab - Run Below Block First"
   ]
  },
  {
   "cell_type": "code",
   "execution_count": 1,
   "metadata": {
    "colab": {
     "base_uri": "https://localhost:8080/",
     "height": 34
    },
    "colab_type": "code",
    "id": "NYDouFMlhvIo",
    "outputId": "7d0e0efe-c3aa-43dd-e99a-ed69177ff407"
   },
   "outputs": [],
   "source": [
    "# if running in colab, this block chooses tf 2.0:\n",
    "try:\n",
    "  # %tensorflow_version only exists in Colab.\n",
    "  %tensorflow_version 2.x\n",
    "except Exception:\n",
    "    pass"
   ]
  },
  {
   "cell_type": "markdown",
   "metadata": {
    "colab_type": "text",
    "id": "lSu55NMAg340"
   },
   "source": [
    "## Import Statements"
   ]
  },
  {
   "cell_type": "code",
   "execution_count": 3,
   "metadata": {
    "colab": {
     "base_uri": "https://localhost:8080/",
     "height": 51
    },
    "colab_type": "code",
    "id": "phIROnd7F_JQ",
    "outputId": "7c4d194e-0170-49ee-9932-05c46eacbe94"
   },
   "outputs": [
    {
     "name": "stdout",
     "output_type": "stream",
     "text": [
      "tensorflow version: 2.0.0\n"
     ]
    },
    {
     "name": "stderr",
     "output_type": "stream",
     "text": [
      "Using TensorFlow backend.\n"
     ]
    }
   ],
   "source": [
    "# customary imports:\n",
    "import tensorflow as tf\n",
    "assert '2.' in tf.__version__  # make sure you're using tf 2.0\n",
    "import numpy as np\n",
    "import matplotlib.pyplot as plt\n",
    "import pandas as pd\n",
    "import sklearn\n",
    "import skimage\n",
    "import cv2 as cv\n",
    "import os\n",
    "import scipy\n",
    "from skimage.morphology import reconstruction\n",
    "from skimage import exposure\n",
    "import scipy.io as sio\n",
    "import h5py\n",
    "import random\n",
    "import shutil\n",
    "import PIL\n",
    "import imageio\n",
    "import plotly.graph_objects as go\n",
    "import preprocess_crop\n",
    "from pathlib import Path\n",
    "from tensorflow.keras import backend as K\n",
    "from PIL import Image\n",
    "from keras.preprocessing.image import ImageDataGenerator\n",
    "from tensorflow.keras.layers import Dense, Flatten, Conv2D\n",
    "from tensorflow.keras import Model\n",
    "from keras.utils import CustomObjectScope\n",
    "from mpl_toolkits.mplot3d import Axes3D\n",
    "print('tensorflow version: ' + tf.__version__)"
   ]
  },
  {
   "cell_type": "markdown",
   "metadata": {
    "colab_type": "text",
    "id": "lcyGPWatiZRx"
   },
   "source": [
    "## If Running In Colab - Run the Next Two Blocks"
   ]
  },
  {
   "cell_type": "code",
   "execution_count": 3,
   "metadata": {
    "colab": {
     "base_uri": "https://localhost:8080/",
     "height": 34
    },
    "colab_type": "code",
    "id": "_HCdWMlng343",
    "outputId": "7ea70db8-2d20-4c92-af78-4bc47624edd2"
   },
   "outputs": [
    {
     "name": "stdout",
     "output_type": "stream",
     "text": [
      "Drive already mounted at /content/drive; to attempt to forcibly remount, call drive.mount(\"/content/drive\", force_remount=True).\n"
     ]
    }
   ],
   "source": [
    "# Load the Drive helper and mount\n",
    "from google.colab import drive\n",
    "\n",
    "# This will prompt for authorization.\n",
    "drive.mount('/content/drive')"
   ]
  },
  {
   "cell_type": "code",
   "execution_count": 7,
   "metadata": {
    "colab": {
     "base_uri": "https://localhost:8080/",
     "height": 34
    },
    "colab_type": "code",
    "id": "JzTqxwZUg346",
    "outputId": "85eee941-d05e-48ce-c77e-4882da6a76a5"
   },
   "outputs": [
    {
     "name": "stdout",
     "output_type": "stream",
     "text": [
      "Current Working Directory is : /content/drive/Shared drives/BME 590L - ML in Imaging - Final Project/Final Project\n"
     ]
    }
   ],
   "source": [
    "os.chdir('/content/drive/Shared drives/BME 590L - ML in Imaging - Final Project/Final Project')\n",
    "\n",
    "print(\"Current Working Directory is : \" + os.getcwd())"
   ]
  },
  {
   "cell_type": "markdown",
   "metadata": {
    "colab_type": "text",
    "id": "aCtLTkWNg348"
   },
   "source": [
    "## Function to Convert .mat folder into Another File Format"
   ]
  },
  {
   "cell_type": "code",
   "execution_count": 6,
   "metadata": {
    "colab": {},
    "colab_type": "code",
    "id": "KMrHcsnKg348"
   },
   "outputs": [],
   "source": [
    "def convert_MAP(directory,output_directory, min_shape, file_format = '.npy', search_keys = None, dtype = np.float32):\n",
    "    # This program loops through given raw_data directory\n",
    "    # and converts .mat files to .npy files\n",
    "    new_dir = os.path.join(os.getcwd(), output_directory)\n",
    "    if not os.path.exists(new_dir):\n",
    "        os.mkdir(new_dir)\n",
    "    else:\n",
    "        shutil.rmtree(new_dir)\n",
    "        os.mkdir(new_dir)\n",
    "    for file in os.listdir(directory):\n",
    "        filename = os.fsdecode(file)\n",
    "        if filename.endswith(\".mat\"): \n",
    "            #print(os.path.join(directory, filename))\n",
    "            filepath = os.path.join(directory, filename)\n",
    "            array_dict = {}\n",
    "            try:\n",
    "                f = h5py.File(filepath, 'r')\n",
    "            except:\n",
    "                f = sio.loadmat(filepath)\n",
    "            for k, v in f.items():\n",
    "                array_dict[k] = np.array(v, dtype = np.float32)\n",
    "            # As we only need image info from dict (the last key) we do this\n",
    "            if search_keys == None:\n",
    "                search_keys = 'map' # out of struct of .mat files want \"map\"\n",
    "                filtered_dict = dict(filter(lambda item: search_keys in item[0], array_dict.items()))\n",
    "            else:\n",
    "                filtered_dict = {}\n",
    "                for i in range(len(search_keys)):\n",
    "                    search_key = search_keys[i]\n",
    "                    if search_key in array_dict:\n",
    "                        filtered_dict[search_key] = array_dict[search_key]\n",
    "            if len(filtered_dict) == 0:\n",
    "                print('No Data to Meet Search Key Requirements: Datapoint Rejected -> ' + filepath)\n",
    "            else:\n",
    "                #print(list(array_dict.keys()))\n",
    "                #print(filtered_dict)\n",
    "                arrays = []\n",
    "                for k, v in filtered_dict.items():\n",
    "                    temp = np.transpose(v.astype(np.float32))\n",
    "                    # To normalize data between [-1,1], use -> arrays = arrays/(np.max(arrays)/2) - 1\n",
    "                    # To normalize data between [0,1], use -> arrays = arrays/(np.max(arrays))\n",
    "                    # To normalize data between [0,255], \n",
    "                    #     use -> arrays = (arrays/(np.max(arrays))*255).astype(np.uint8)\n",
    "                    temp = temp/(np.max(temp))\n",
    "                    arrays.append(temp)\n",
    "                for i in range(len(arrays)):\n",
    "                    if len(arrays[i].shape) > 2:\n",
    "                        #print(arrays[i].shape)\n",
    "                        arrays[i] = np.mean(arrays[i], axis = 2)\n",
    "\n",
    "                for i in range(len(arrays)):\n",
    "                    new_dir_filepath = os.path.join(new_dir, filename.strip('.mat') \n",
    "                                                    + '_index'+str(i) + file_format)\n",
    "                    array = arrays[i]\n",
    "                    if array.shape[0] >= min_shape[0] and array.shape[1] >= min_shape[1]:\n",
    "                        if file_format == '.npy':\n",
    "                            np.save(new_dir_filepath, array, allow_pickle=True, fix_imports=True)\n",
    "                        else:\n",
    "                            imageio.imwrite(new_dir_filepath, array)\n",
    "                    elif i == 0:\n",
    "                        print('Min Size Not Met: Datapoint Rejected -> ' + filepath)\n",
    "    return os.path.join(os.getcwd(), output_directory)"
   ]
  },
  {
   "cell_type": "code",
   "execution_count": 7,
   "metadata": {
    "colab": {},
    "colab_type": "code",
    "id": "jBqTC1Lag34-"
   },
   "outputs": [
    {
     "name": "stdout",
     "output_type": "stream",
     "text": [
      "Min Size Not Met: Datapoint Rejected -> E:\\Duke\\Semester 1 - Fall 2019\\Research Lab\\PAM_Deep_Learning_Undersampling_Publication\\Code\\raw_data\\190309_brain  6_Image3.mat\n",
      "Min Size Not Met: Datapoint Rejected -> E:\\Duke\\Semester 1 - Fall 2019\\Research Lab\\PAM_Deep_Learning_Undersampling_Publication\\Code\\raw_data\\190309_brain  6_Image4.mat\n",
      "Min Size Not Met: Datapoint Rejected -> E:\\Duke\\Semester 1 - Fall 2019\\Research Lab\\PAM_Deep_Learning_Undersampling_Publication\\Code\\raw_data\\20190508_thinnedskull_Epi_by 2    3_Image1.mat\n",
      "Min Size Not Met: Datapoint Rejected -> E:\\Duke\\Semester 1 - Fall 2019\\Research Lab\\PAM_Deep_Learning_Undersampling_Publication\\Code\\raw_data\\20190529_findfocus  24_Image3.mat\n",
      "No Data to Meet Search Key Requirements: Datapoint Rejected -> E:\\Duke\\Semester 1 - Fall 2019\\Research Lab\\PAM_Deep_Learning_Undersampling_Publication\\Code\\raw_data\\reslt_OR_1 (5).mat\n",
      "No Data to Meet Search Key Requirements: Datapoint Rejected -> E:\\Duke\\Semester 1 - Fall 2019\\Research Lab\\PAM_Deep_Learning_Undersampling_Publication\\Code\\raw_data\\reslt_OR_1 (36).mat\n",
      "No Data to Meet Search Key Requirements: Datapoint Rejected -> E:\\Duke\\Semester 1 - Fall 2019\\Research Lab\\PAM_Deep_Learning_Undersampling_Publication\\Code\\raw_data\\reslt_OR_2 (5).mat\n",
      "No Data to Meet Search Key Requirements: Datapoint Rejected -> E:\\Duke\\Semester 1 - Fall 2019\\Research Lab\\PAM_Deep_Learning_Undersampling_Publication\\Code\\raw_data\\reslt_OR_2 (25).mat\n",
      "No Data to Meet Search Key Requirements: Datapoint Rejected -> E:\\Duke\\Semester 1 - Fall 2019\\Research Lab\\PAM_Deep_Learning_Undersampling_Publication\\Code\\raw_data\\reslt_OR_2 (29).mat\n",
      "No Data to Meet Search Key Requirements: Datapoint Rejected -> E:\\Duke\\Semester 1 - Fall 2019\\Research Lab\\PAM_Deep_Learning_Undersampling_Publication\\Code\\raw_data\\reslt_OR_2 (30).mat\n",
      "No Data to Meet Search Key Requirements: Datapoint Rejected -> E:\\Duke\\Semester 1 - Fall 2019\\Research Lab\\PAM_Deep_Learning_Undersampling_Publication\\Code\\raw_data\\reslt_OR_2 (31).mat\n",
      "No Data to Meet Search Key Requirements: Datapoint Rejected -> E:\\Duke\\Semester 1 - Fall 2019\\Research Lab\\PAM_Deep_Learning_Undersampling_Publication\\Code\\raw_data\\reslt_OR_2 (34).mat\n",
      "No Data to Meet Search Key Requirements: Datapoint Rejected -> E:\\Duke\\Semester 1 - Fall 2019\\Research Lab\\PAM_Deep_Learning_Undersampling_Publication\\Code\\raw_data\\reslt_OR_2 (35).mat\n",
      "No Data to Meet Search Key Requirements: Datapoint Rejected -> E:\\Duke\\Semester 1 - Fall 2019\\Research Lab\\PAM_Deep_Learning_Undersampling_Publication\\Code\\raw_data\\reslt_OR_2 (38).mat\n",
      "No Data to Meet Search Key Requirements: Datapoint Rejected -> E:\\Duke\\Semester 1 - Fall 2019\\Research Lab\\PAM_Deep_Learning_Undersampling_Publication\\Code\\raw_data\\reslt_OR_2 (40).mat\n",
      "Min Size Not Met: Datapoint Rejected -> E:\\Duke\\Semester 1 - Fall 2019\\Research Lab\\PAM_Deep_Learning_Undersampling_Publication\\Code\\raw_data\\reslt_OR_3 (15).mat\n",
      "Min Size Not Met: Datapoint Rejected -> E:\\Duke\\Semester 1 - Fall 2019\\Research Lab\\PAM_Deep_Learning_Undersampling_Publication\\Code\\raw_data\\reslt_OR_3 (17).mat\n",
      "No Data to Meet Search Key Requirements: Datapoint Rejected -> E:\\Duke\\Semester 1 - Fall 2019\\Research Lab\\PAM_Deep_Learning_Undersampling_Publication\\Code\\raw_data\\reslt_OR_3 (23).mat\n",
      "No Data to Meet Search Key Requirements: Datapoint Rejected -> E:\\Duke\\Semester 1 - Fall 2019\\Research Lab\\PAM_Deep_Learning_Undersampling_Publication\\Code\\raw_data\\reslt_OR_3 (24).mat\n",
      "No Data to Meet Search Key Requirements: Datapoint Rejected -> E:\\Duke\\Semester 1 - Fall 2019\\Research Lab\\PAM_Deep_Learning_Undersampling_Publication\\Code\\raw_data\\reslt_OR_3 (25).mat\n",
      "No Data to Meet Search Key Requirements: Datapoint Rejected -> E:\\Duke\\Semester 1 - Fall 2019\\Research Lab\\PAM_Deep_Learning_Undersampling_Publication\\Code\\raw_data\\reslt_OR_3 (26).mat\n",
      "No Data to Meet Search Key Requirements: Datapoint Rejected -> E:\\Duke\\Semester 1 - Fall 2019\\Research Lab\\PAM_Deep_Learning_Undersampling_Publication\\Code\\raw_data\\reslt_OR_3 (30).mat\n",
      "No Data to Meet Search Key Requirements: Datapoint Rejected -> E:\\Duke\\Semester 1 - Fall 2019\\Research Lab\\PAM_Deep_Learning_Undersampling_Publication\\Code\\raw_data\\reslt_OR_3 (31).mat\n",
      "No Data to Meet Search Key Requirements: Datapoint Rejected -> E:\\Duke\\Semester 1 - Fall 2019\\Research Lab\\PAM_Deep_Learning_Undersampling_Publication\\Code\\raw_data\\reslt_OR_3 (32).mat\n",
      "No Data to Meet Search Key Requirements: Datapoint Rejected -> E:\\Duke\\Semester 1 - Fall 2019\\Research Lab\\PAM_Deep_Learning_Undersampling_Publication\\Code\\raw_data\\reslt_OR_3 (33).mat\n",
      "Min Size Not Met: Datapoint Rejected -> E:\\Duke\\Semester 1 - Fall 2019\\Research Lab\\PAM_Deep_Learning_Undersampling_Publication\\Code\\raw_data\\reslt_OR_4 (10).mat\n",
      "Min Size Not Met: Datapoint Rejected -> E:\\Duke\\Semester 1 - Fall 2019\\Research Lab\\PAM_Deep_Learning_Undersampling_Publication\\Code\\raw_data\\reslt_OR_4 (11).mat\n",
      "Min Size Not Met: Datapoint Rejected -> E:\\Duke\\Semester 1 - Fall 2019\\Research Lab\\PAM_Deep_Learning_Undersampling_Publication\\Code\\raw_data\\reslt_OR_4 (12).mat\n",
      "Min Size Not Met: Datapoint Rejected -> E:\\Duke\\Semester 1 - Fall 2019\\Research Lab\\PAM_Deep_Learning_Undersampling_Publication\\Code\\raw_data\\reslt_OR_4 (13).mat\n",
      "Min Size Not Met: Datapoint Rejected -> E:\\Duke\\Semester 1 - Fall 2019\\Research Lab\\PAM_Deep_Learning_Undersampling_Publication\\Code\\raw_data\\reslt_OR_4 (14).mat\n",
      "No Data to Meet Search Key Requirements: Datapoint Rejected -> E:\\Duke\\Semester 1 - Fall 2019\\Research Lab\\PAM_Deep_Learning_Undersampling_Publication\\Code\\raw_data\\reslt_OR_4 (18).mat\n",
      "No Data to Meet Search Key Requirements: Datapoint Rejected -> E:\\Duke\\Semester 1 - Fall 2019\\Research Lab\\PAM_Deep_Learning_Undersampling_Publication\\Code\\raw_data\\reslt_OR_4 (19).mat\n",
      "No Data to Meet Search Key Requirements: Datapoint Rejected -> E:\\Duke\\Semester 1 - Fall 2019\\Research Lab\\PAM_Deep_Learning_Undersampling_Publication\\Code\\raw_data\\reslt_OR_4 (20).mat\n",
      "No Data to Meet Search Key Requirements: Datapoint Rejected -> E:\\Duke\\Semester 1 - Fall 2019\\Research Lab\\PAM_Deep_Learning_Undersampling_Publication\\Code\\raw_data\\reslt_OR_4 (21).mat\n",
      "No Data to Meet Search Key Requirements: Datapoint Rejected -> E:\\Duke\\Semester 1 - Fall 2019\\Research Lab\\PAM_Deep_Learning_Undersampling_Publication\\Code\\raw_data\\reslt_OR_4 (24).mat\n",
      "No Data to Meet Search Key Requirements: Datapoint Rejected -> E:\\Duke\\Semester 1 - Fall 2019\\Research Lab\\PAM_Deep_Learning_Undersampling_Publication\\Code\\raw_data\\reslt_OR_4 (25).mat\n",
      "No Data to Meet Search Key Requirements: Datapoint Rejected -> E:\\Duke\\Semester 1 - Fall 2019\\Research Lab\\PAM_Deep_Learning_Undersampling_Publication\\Code\\raw_data\\reslt_OR_4 (26).mat\n",
      "No Data to Meet Search Key Requirements: Datapoint Rejected -> E:\\Duke\\Semester 1 - Fall 2019\\Research Lab\\PAM_Deep_Learning_Undersampling_Publication\\Code\\raw_data\\reslt_OR_4 (27).mat\n",
      "No Data to Meet Search Key Requirements: Datapoint Rejected -> E:\\Duke\\Semester 1 - Fall 2019\\Research Lab\\PAM_Deep_Learning_Undersampling_Publication\\Code\\raw_data\\reslt_OR_4 (28).mat\n",
      "No Data to Meet Search Key Requirements: Datapoint Rejected -> E:\\Duke\\Semester 1 - Fall 2019\\Research Lab\\PAM_Deep_Learning_Undersampling_Publication\\Code\\raw_data\\reslt_OR_5 (5).mat\n",
      "Min Size Not Met: Datapoint Rejected -> E:\\Duke\\Semester 1 - Fall 2019\\Research Lab\\PAM_Deep_Learning_Undersampling_Publication\\Code\\raw_data\\reslt_OR_5 (8).mat\n",
      "Min Size Not Met: Datapoint Rejected -> E:\\Duke\\Semester 1 - Fall 2019\\Research Lab\\PAM_Deep_Learning_Undersampling_Publication\\Code\\raw_data\\reslt_OR_5 (9).mat\n",
      "Min Size Not Met: Datapoint Rejected -> E:\\Duke\\Semester 1 - Fall 2019\\Research Lab\\PAM_Deep_Learning_Undersampling_Publication\\Code\\raw_data\\reslt_OR_5 (10).mat\n",
      "Min Size Not Met: Datapoint Rejected -> E:\\Duke\\Semester 1 - Fall 2019\\Research Lab\\PAM_Deep_Learning_Undersampling_Publication\\Code\\raw_data\\reslt_OR_5 (11).mat\n",
      "Min Size Not Met: Datapoint Rejected -> E:\\Duke\\Semester 1 - Fall 2019\\Research Lab\\PAM_Deep_Learning_Undersampling_Publication\\Code\\raw_data\\reslt_OR_5 (12).mat\n",
      "No Data to Meet Search Key Requirements: Datapoint Rejected -> E:\\Duke\\Semester 1 - Fall 2019\\Research Lab\\PAM_Deep_Learning_Undersampling_Publication\\Code\\raw_data\\reslt_OR_5 (17).mat\n",
      "No Data to Meet Search Key Requirements: Datapoint Rejected -> E:\\Duke\\Semester 1 - Fall 2019\\Research Lab\\PAM_Deep_Learning_Undersampling_Publication\\Code\\raw_data\\reslt_OR_5 (18).mat\n",
      "No Data to Meet Search Key Requirements: Datapoint Rejected -> E:\\Duke\\Semester 1 - Fall 2019\\Research Lab\\PAM_Deep_Learning_Undersampling_Publication\\Code\\raw_data\\reslt_OR_5 (19).mat\n",
      "No Data to Meet Search Key Requirements: Datapoint Rejected -> E:\\Duke\\Semester 1 - Fall 2019\\Research Lab\\PAM_Deep_Learning_Undersampling_Publication\\Code\\raw_data\\reslt_OR_5 (20).mat\n",
      "No Data to Meet Search Key Requirements: Datapoint Rejected -> E:\\Duke\\Semester 1 - Fall 2019\\Research Lab\\PAM_Deep_Learning_Undersampling_Publication\\Code\\raw_data\\reslt_OR_5 (22).mat\n",
      "No Data to Meet Search Key Requirements: Datapoint Rejected -> E:\\Duke\\Semester 1 - Fall 2019\\Research Lab\\PAM_Deep_Learning_Undersampling_Publication\\Code\\raw_data\\reslt_OR_5 (23).mat\n",
      "No Data to Meet Search Key Requirements: Datapoint Rejected -> E:\\Duke\\Semester 1 - Fall 2019\\Research Lab\\PAM_Deep_Learning_Undersampling_Publication\\Code\\raw_data\\reslt_OR_5 (24).mat\n",
      "No Data to Meet Search Key Requirements: Datapoint Rejected -> E:\\Duke\\Semester 1 - Fall 2019\\Research Lab\\PAM_Deep_Learning_Undersampling_Publication\\Code\\raw_data\\reslt_OR_5 (25).mat\n",
      "Min Size Not Met: Datapoint Rejected -> E:\\Duke\\Semester 1 - Fall 2019\\Research Lab\\PAM_Deep_Learning_Undersampling_Publication\\Code\\raw_data\\reslt_OR_6 (5).mat\n",
      "Min Size Not Met: Datapoint Rejected -> E:\\Duke\\Semester 1 - Fall 2019\\Research Lab\\PAM_Deep_Learning_Undersampling_Publication\\Code\\raw_data\\reslt_OR_6 (6).mat\n",
      "Min Size Not Met: Datapoint Rejected -> E:\\Duke\\Semester 1 - Fall 2019\\Research Lab\\PAM_Deep_Learning_Undersampling_Publication\\Code\\raw_data\\reslt_OR_6 (7).mat\n",
      "Min Size Not Met: Datapoint Rejected -> E:\\Duke\\Semester 1 - Fall 2019\\Research Lab\\PAM_Deep_Learning_Undersampling_Publication\\Code\\raw_data\\reslt_OR_6 (8).mat\n",
      "Min Size Not Met: Datapoint Rejected -> E:\\Duke\\Semester 1 - Fall 2019\\Research Lab\\PAM_Deep_Learning_Undersampling_Publication\\Code\\raw_data\\reslt_OR_6 (9).mat\n",
      "No Data to Meet Search Key Requirements: Datapoint Rejected -> E:\\Duke\\Semester 1 - Fall 2019\\Research Lab\\PAM_Deep_Learning_Undersampling_Publication\\Code\\raw_data\\reslt_OR_6 (11).mat\n",
      "No Data to Meet Search Key Requirements: Datapoint Rejected -> E:\\Duke\\Semester 1 - Fall 2019\\Research Lab\\PAM_Deep_Learning_Undersampling_Publication\\Code\\raw_data\\reslt_OR_6 (12).mat\n",
      "No Data to Meet Search Key Requirements: Datapoint Rejected -> E:\\Duke\\Semester 1 - Fall 2019\\Research Lab\\PAM_Deep_Learning_Undersampling_Publication\\Code\\raw_data\\reslt_OR_6 (13).mat\n",
      "No Data to Meet Search Key Requirements: Datapoint Rejected -> E:\\Duke\\Semester 1 - Fall 2019\\Research Lab\\PAM_Deep_Learning_Undersampling_Publication\\Code\\raw_data\\reslt_OR_6 (14).mat\n",
      "No Data to Meet Search Key Requirements: Datapoint Rejected -> E:\\Duke\\Semester 1 - Fall 2019\\Research Lab\\PAM_Deep_Learning_Undersampling_Publication\\Code\\raw_data\\reslt_OR_6 (15).mat\n",
      "No Data to Meet Search Key Requirements: Datapoint Rejected -> E:\\Duke\\Semester 1 - Fall 2019\\Research Lab\\PAM_Deep_Learning_Undersampling_Publication\\Code\\raw_data\\reslt_OR_6 (18).mat\n",
      "No Data to Meet Search Key Requirements: Datapoint Rejected -> E:\\Duke\\Semester 1 - Fall 2019\\Research Lab\\PAM_Deep_Learning_Undersampling_Publication\\Code\\raw_data\\reslt_OR_6 (19).mat\n",
      "No Data to Meet Search Key Requirements: Datapoint Rejected -> E:\\Duke\\Semester 1 - Fall 2019\\Research Lab\\PAM_Deep_Learning_Undersampling_Publication\\Code\\raw_data\\reslt_OR_6 (20).mat\n",
      "No Data to Meet Search Key Requirements: Datapoint Rejected -> E:\\Duke\\Semester 1 - Fall 2019\\Research Lab\\PAM_Deep_Learning_Undersampling_Publication\\Code\\raw_data\\reslt_OR_7 (4).mat\n",
      "Min Size Not Met: Datapoint Rejected -> E:\\Duke\\Semester 1 - Fall 2019\\Research Lab\\PAM_Deep_Learning_Undersampling_Publication\\Code\\raw_data\\reslt_OR_7 (5).mat\n",
      "Min Size Not Met: Datapoint Rejected -> E:\\Duke\\Semester 1 - Fall 2019\\Research Lab\\PAM_Deep_Learning_Undersampling_Publication\\Code\\raw_data\\reslt_OR_7 (6).mat\n",
      "Min Size Not Met: Datapoint Rejected -> E:\\Duke\\Semester 1 - Fall 2019\\Research Lab\\PAM_Deep_Learning_Undersampling_Publication\\Code\\raw_data\\reslt_OR_7 (7).mat\n",
      "Min Size Not Met: Datapoint Rejected -> E:\\Duke\\Semester 1 - Fall 2019\\Research Lab\\PAM_Deep_Learning_Undersampling_Publication\\Code\\raw_data\\reslt_OR_7 (8).mat\n",
      "Min Size Not Met: Datapoint Rejected -> E:\\Duke\\Semester 1 - Fall 2019\\Research Lab\\PAM_Deep_Learning_Undersampling_Publication\\Code\\raw_data\\reslt_OR_7 (9).mat\n",
      "No Data to Meet Search Key Requirements: Datapoint Rejected -> E:\\Duke\\Semester 1 - Fall 2019\\Research Lab\\PAM_Deep_Learning_Undersampling_Publication\\Code\\raw_data\\reslt_OR_7 (11).mat\n",
      "No Data to Meet Search Key Requirements: Datapoint Rejected -> E:\\Duke\\Semester 1 - Fall 2019\\Research Lab\\PAM_Deep_Learning_Undersampling_Publication\\Code\\raw_data\\reslt_OR_7 (12).mat\n",
      "No Data to Meet Search Key Requirements: Datapoint Rejected -> E:\\Duke\\Semester 1 - Fall 2019\\Research Lab\\PAM_Deep_Learning_Undersampling_Publication\\Code\\raw_data\\reslt_OR_7 (13).mat\n",
      "No Data to Meet Search Key Requirements: Datapoint Rejected -> E:\\Duke\\Semester 1 - Fall 2019\\Research Lab\\PAM_Deep_Learning_Undersampling_Publication\\Code\\raw_data\\reslt_OR_7 (14).mat\n",
      "No Data to Meet Search Key Requirements: Datapoint Rejected -> E:\\Duke\\Semester 1 - Fall 2019\\Research Lab\\PAM_Deep_Learning_Undersampling_Publication\\Code\\raw_data\\reslt_OR_7 (15).mat\n",
      "No Data to Meet Search Key Requirements: Datapoint Rejected -> E:\\Duke\\Semester 1 - Fall 2019\\Research Lab\\PAM_Deep_Learning_Undersampling_Publication\\Code\\raw_data\\reslt_OR_7 (17).mat\n",
      "No Data to Meet Search Key Requirements: Datapoint Rejected -> E:\\Duke\\Semester 1 - Fall 2019\\Research Lab\\PAM_Deep_Learning_Undersampling_Publication\\Code\\raw_data\\reslt_OR_7 (18).mat\n",
      "No Data to Meet Search Key Requirements: Datapoint Rejected -> E:\\Duke\\Semester 1 - Fall 2019\\Research Lab\\PAM_Deep_Learning_Undersampling_Publication\\Code\\raw_data\\reslt_OR_7 (19).mat\n",
      "No Data to Meet Search Key Requirements: Datapoint Rejected -> E:\\Duke\\Semester 1 - Fall 2019\\Research Lab\\PAM_Deep_Learning_Undersampling_Publication\\Code\\raw_data\\reslt_OR_8 (4).mat\n",
      "Min Size Not Met: Datapoint Rejected -> E:\\Duke\\Semester 1 - Fall 2019\\Research Lab\\PAM_Deep_Learning_Undersampling_Publication\\Code\\raw_data\\reslt_OR_8 (5).mat\n",
      "Min Size Not Met: Datapoint Rejected -> E:\\Duke\\Semester 1 - Fall 2019\\Research Lab\\PAM_Deep_Learning_Undersampling_Publication\\Code\\raw_data\\reslt_OR_8 (6).mat\n",
      "Min Size Not Met: Datapoint Rejected -> E:\\Duke\\Semester 1 - Fall 2019\\Research Lab\\PAM_Deep_Learning_Undersampling_Publication\\Code\\raw_data\\reslt_OR_8 (7).mat\n",
      "Min Size Not Met: Datapoint Rejected -> E:\\Duke\\Semester 1 - Fall 2019\\Research Lab\\PAM_Deep_Learning_Undersampling_Publication\\Code\\raw_data\\reslt_OR_8 (8).mat\n",
      "Min Size Not Met: Datapoint Rejected -> E:\\Duke\\Semester 1 - Fall 2019\\Research Lab\\PAM_Deep_Learning_Undersampling_Publication\\Code\\raw_data\\reslt_OR_8 (9).mat\n",
      "No Data to Meet Search Key Requirements: Datapoint Rejected -> E:\\Duke\\Semester 1 - Fall 2019\\Research Lab\\PAM_Deep_Learning_Undersampling_Publication\\Code\\raw_data\\reslt_OR_8 (12).mat\n",
      "No Data to Meet Search Key Requirements: Datapoint Rejected -> E:\\Duke\\Semester 1 - Fall 2019\\Research Lab\\PAM_Deep_Learning_Undersampling_Publication\\Code\\raw_data\\reslt_OR_8 (13).mat\n",
      "No Data to Meet Search Key Requirements: Datapoint Rejected -> E:\\Duke\\Semester 1 - Fall 2019\\Research Lab\\PAM_Deep_Learning_Undersampling_Publication\\Code\\raw_data\\reslt_OR_8 (14).mat\n",
      "No Data to Meet Search Key Requirements: Datapoint Rejected -> E:\\Duke\\Semester 1 - Fall 2019\\Research Lab\\PAM_Deep_Learning_Undersampling_Publication\\Code\\raw_data\\reslt_OR_8 (15).mat\n",
      "No Data to Meet Search Key Requirements: Datapoint Rejected -> E:\\Duke\\Semester 1 - Fall 2019\\Research Lab\\PAM_Deep_Learning_Undersampling_Publication\\Code\\raw_data\\reslt_OR_8 (16).mat\n",
      "No Data to Meet Search Key Requirements: Datapoint Rejected -> E:\\Duke\\Semester 1 - Fall 2019\\Research Lab\\PAM_Deep_Learning_Undersampling_Publication\\Code\\raw_data\\reslt_OR_8 (17).mat\n",
      "No Data to Meet Search Key Requirements: Datapoint Rejected -> E:\\Duke\\Semester 1 - Fall 2019\\Research Lab\\PAM_Deep_Learning_Undersampling_Publication\\Code\\raw_data\\reslt_OR_8 (18).mat\n",
      "Min Size Not Met: Datapoint Rejected -> E:\\Duke\\Semester 1 - Fall 2019\\Research Lab\\PAM_Deep_Learning_Undersampling_Publication\\Code\\raw_data\\reslt_OR_9 (8).mat\n",
      "Min Size Not Met: Datapoint Rejected -> E:\\Duke\\Semester 1 - Fall 2019\\Research Lab\\PAM_Deep_Learning_Undersampling_Publication\\Code\\raw_data\\reslt_OR_9 (9).mat\n",
      "Min Size Not Met: Datapoint Rejected -> E:\\Duke\\Semester 1 - Fall 2019\\Research Lab\\PAM_Deep_Learning_Undersampling_Publication\\Code\\raw_data\\reslt_OR_9 (10).mat\n",
      "Min Size Not Met: Datapoint Rejected -> E:\\Duke\\Semester 1 - Fall 2019\\Research Lab\\PAM_Deep_Learning_Undersampling_Publication\\Code\\raw_data\\reslt_OR_9 (11).mat\n",
      "Min Size Not Met: Datapoint Rejected -> E:\\Duke\\Semester 1 - Fall 2019\\Research Lab\\PAM_Deep_Learning_Undersampling_Publication\\Code\\raw_data\\reslt_OR_9 (12).mat\n"
     ]
    }
   ],
   "source": [
    "raw_directory = os.path.join(os.getcwd(), 'raw_data')\n",
    "MIN_SHAPE = (224,224)\n",
    "ENDPOINT_FOLDER_NAME = 'converted_data'\n",
    "converted_dir = convert_MAP(raw_directory, ENDPOINT_FOLDER_NAME, MIN_SHAPE,\n",
    "                            file_format = '.npy', search_keys = ['map_532'])"
   ]
  },
  {
   "cell_type": "markdown",
   "metadata": {
    "colab_type": "text",
    "id": "8A0FOljWg35A"
   },
   "source": [
    "## Function to Process Data by Denoising and Increasing Contrast"
   ]
  },
  {
   "cell_type": "code",
   "execution_count": 14,
   "metadata": {
    "colab": {},
    "colab_type": "code",
    "id": "NWS9zWHUg35B"
   },
   "outputs": [],
   "source": [
    "def data_cleaning(input_dir = 'converted_data', output_dir_name = 'cleaned_data',\n",
    "                  output_file_format ='.npy', delete_previous = True):\n",
    "    \n",
    "    # This program seeks to remove some noise from the data\n",
    "    # and make the underlying vessel structure more prominent\n",
    "    # Input: input_dir -> directory that holds data to be cleaned\n",
    "    #        output_dir -> directory to hold cleaned data\n",
    "    # Output: None\n",
    "    \n",
    "    file_list = os.listdir(input_dir)\n",
    "    clean_dir = os.path.join(os.getcwd(), output_dir_name)\n",
    "    if not os.path.exists(clean_dir):\n",
    "        os.mkdir(clean_dir)\n",
    "    elif delete_previous == True:\n",
    "        shutil.rmtree(clean_dir)\n",
    "        os.mkdir(clean_dir)\n",
    "    for file in file_list:\n",
    "        filename = os.fsdecode(file)\n",
    "        filepath = os.path.join(input_dir, filename)\n",
    "        if filepath.endswith('.npy'):\n",
    "            array = np.load(filepath)\n",
    "        else:\n",
    "            array = imageio.imread(filepath)\n",
    "            \n",
    "        # Defined data clean function below:   \n",
    "        array = data_clean_func(array)\n",
    "    \n",
    "        new_filepath = os.path.join(clean_dir, filename)\n",
    "        if output_file_format == '.npy':\n",
    "            new_filepath = Path(new_filepath)\n",
    "            new_filepath = new_filepath.with_suffix('')\n",
    "            new_filepath = new_filepath.with_suffix(output_file_format)\n",
    "            np.save(new_filepath, array, allow_pickle=True, fix_imports=True)\n",
    "        else:\n",
    "            new_filepath = Path(new_filepath)\n",
    "            new_filepath = new_filepath.with_suffix('')\n",
    "            new_filepath = new_filepath.with_suffix(output_file_format)\n",
    "            imageio.imwrite(new_filepath, array)\n",
    "    return\n",
    "def data_clean_func(image = -1):\n",
    "    if len(image) == 1:\n",
    "        print('Error in data_clean_func: Must input array to clean')\n",
    "    else:\n",
    "        #print(len(np.unique(image)))\n",
    "        #clean_image = image\n",
    "        '''\n",
    "        plt.hist(image)\n",
    "        plt.show()\n",
    "        '''\n",
    "        '''\n",
    "        plt.imshow(image, cmap='gray')\n",
    "        plt.title('Original Image')\n",
    "        plt.show()\n",
    "        '''\n",
    "        threshold = 0.85\n",
    "        default_fill = 0\n",
    "        frac_of_high_clip = 1/9\n",
    "        image[image > threshold] = default_fill\n",
    "        image[image < frac_of_high_clip*(1-threshold)] = default_fill\n",
    "        '''\n",
    "        plt.imshow(image, cmap='gray')\n",
    "        plt.title('After Clipping')\n",
    "        plt.show()\n",
    "        '''\n",
    "        image = scipy.ndimage.median_filter(image, size=(4, 4))\n",
    "        '''\n",
    "        plt.imshow(image, cmap='gray')\n",
    "        plt.title('After Median Filter')\n",
    "        plt.show()\n",
    "        '''\n",
    "        image = skimage.filters.gaussian(image, sigma=0.01, output=None, mode='reflect')\n",
    "        image = exposure.equalize_adapthist(image,kernel_size=image.shape[0]//8, clip_limit=0.005, nbins=2**13)\n",
    "        '''\n",
    "        plt.imshow(image, cmap='gray')\n",
    "        plt.title('After Local Adapt Hist')\n",
    "        plt.show()\n",
    "        '''\n",
    "        image = scipy.ndimage.median_filter(image, size=(3, 1))\n",
    "        image = scipy.ndimage.median_filter(image, size=(1, 3))\n",
    "        image = skimage.filters.gaussian(image, sigma=0.1, output=None, mode='reflect')\n",
    "        image = exposure.rescale_intensity(image, in_range='image', out_range=(0.0001,1))\n",
    "        '''\n",
    "        plt.imshow(image, cmap='gray')\n",
    "        plt.title('Final Image')\n",
    "        plt.show()\n",
    "        '''\n",
    "        '''\n",
    "        plt.hist(image)\n",
    "        plt.show()\n",
    "        '''\n",
    "        clean_image = image.astype(np.float32)\n",
    "    return clean_image"
   ]
  },
  {
   "cell_type": "code",
   "execution_count": 18,
   "metadata": {
    "colab": {},
    "colab_type": "code",
    "id": "bvOVi2Xkg35D"
   },
   "outputs": [
    {
     "name": "stdout",
     "output_type": "stream",
     "text": [
      "Starting Data Cleaning...\n",
      "Ending Data Cleaning\n"
     ]
    }
   ],
   "source": [
    "input_dir_name = 'converted_data'\n",
    "#dir_name = 'test_data'\n",
    "input_data_dir = os.path.join(os.getcwd(), input_dir_name)\n",
    "print('Starting Data Cleaning...')\n",
    "data_cleaning(input_dir = input_data_dir, output_dir_name = 'cleaned_data',\n",
    "                  output_file_format ='.tiff', delete_previous = True)\n",
    "print('Ending Data Cleaning')"
   ]
  },
  {
   "cell_type": "markdown",
   "metadata": {
    "colab_type": "text",
    "id": "YecWDY3Bg35F"
   },
   "source": [
    "## Function to Seperate Folder into Subfolder of /training /validation and /testing"
   ]
  },
  {
   "cell_type": "code",
   "execution_count": 16,
   "metadata": {
    "colab": {},
    "colab_type": "code",
    "id": "sJ3bvzrRg35G"
   },
   "outputs": [],
   "source": [
    "def data_seperation(input_dir, dataset_percentages, \n",
    "                    delete_previous = False, file_format = '.npy', \n",
    "                    scale = 1):\n",
    "    # Takes numpy array and creates data folder with seperate sections\n",
    "    # for training, validation, and testing according to given percentages\n",
    "    # Input: numpy dir -> contains file path to data folder of numpy files\n",
    "    #        dataset_percentages -> (% train, % test) such that % train + % test = 100\n",
    "    #        OR\n",
    "    #        dataset_percentages -> (% train, % val, % test) such that % train + % val + % test = 100\n",
    "    # Output: new folders for training and testing or training/validation/testing\n",
    "    \n",
    "    # If just train and test\n",
    "    if len(dataset_percentages) == 2:\n",
    "        # Making Main data folder\n",
    "        new_dir = os.path.join(os.getcwd(), 'data')\n",
    "        if not os.path.exists(new_dir):\n",
    "            os.mkdir(new_dir)\n",
    "        \n",
    "        # Making train subfolder\n",
    "        train_dir = os.path.join(new_dir, 'train')\n",
    "        if not os.path.exists(train_dir):\n",
    "            os.mkdir(train_dir)\n",
    "            train_dir = os.path.join(train_dir, 'input')\n",
    "            os.mkdir(train_dir)\n",
    "        elif delete_previous == True:\n",
    "            shutil.rmtree(train_dir)\n",
    "            os.mkdir(train_dir)\n",
    "            train_dir = os.path.join(train_dir, 'input')\n",
    "            os.mkdir(train_dir)\n",
    "        \n",
    "        # Making test subfolder\n",
    "        test_dir = os.path.join(new_dir, 'test')\n",
    "        if not os.path.exists(test_dir):\n",
    "            os.mkdir(test_dir)\n",
    "            test_dir = os.path.join(test_dir, 'input')\n",
    "            os.mkdir(test_dir)\n",
    "        elif delete_previous == True:\n",
    "            shutil.rmtree(test_dir)\n",
    "            os.mkdir(test_dir)\n",
    "            test_dir = os.path.join(test_dir, 'input')\n",
    "            os.mkdir(test_dir)\n",
    "\n",
    "\n",
    "        file_list = os.listdir(input_dir)\n",
    "        total_num_imgs = len(file_list)\n",
    "        train_percent = dataset_percentages[0]\n",
    "        test_percent = dataset_percentages[1]\n",
    "        valid_inputs = (train_percent >= test_percent and train_percent <= 100 and\n",
    "                        test_percent <= 100 and train_percent > 0 and test_percent > 0 and\n",
    "                        train_percent + test_percent == 100)\n",
    "        if valid_inputs:\n",
    "            num_train = int(round(total_num_imgs * train_percent//100))\n",
    "        else:\n",
    "            num_train = int(round(total_num_imgs * 0.9))\n",
    "            print('ERROR: Please input valid percentages for dataset division')\n",
    "            print('In place of valid input the ratio 90% train, 10% test was used')\n",
    "        \n",
    "        index = 0\n",
    "        random.shuffle(file_list)\n",
    "        for file in file_list:\n",
    "            filename = os.fsdecode(file)\n",
    "            filepath = os.path.join(input_dir, filename)\n",
    "            # Loads File\n",
    "            if filepath.endswith('.npy'):\n",
    "                array = np.load(filepath)*scale\n",
    "            else:\n",
    "                array = imageio.imread(filepath)*scale\n",
    "            if index < num_train:\n",
    "                new_filepath = os.path.join(train_dir, filename)\n",
    "            else:\n",
    "                new_filepath = os.path.join(test_dir, filename)\n",
    "            # Saves File\n",
    "            if file_format == '.npy':\n",
    "                new_filepath = Path(new_filepath)\n",
    "                new_filepath = new_filepath.with_suffix('')\n",
    "                new_filepath = new_filepath.with_suffix(file_format)\n",
    "                np.save(new_filepath, array, allow_pickle=True, fix_imports=True)\n",
    "            else:\n",
    "                new_filepath = Path(new_filepath)\n",
    "                new_filepath = new_filepath.with_suffix('')\n",
    "                new_filepath = new_filepath.with_suffix(file_format)\n",
    "                imageio.imwrite(new_filepath, array)\n",
    "            index += 1\n",
    "        return train_dir, test_dir\n",
    "    # If train, val, and test\n",
    "    elif len(dataset_percentages) == 3:\n",
    "        # Making Main data folder\n",
    "        new_dir = os.path.join(os.getcwd(), 'data')\n",
    "        if not os.path.exists(new_dir):\n",
    "            os.mkdir(new_dir)\n",
    "            \n",
    "        # Making train subfolder\n",
    "        train_dir = os.path.join(new_dir, 'train')\n",
    "        if not os.path.exists(train_dir):\n",
    "            os.mkdir(train_dir)\n",
    "            train_dir = os.path.join(train_dir, 'input')\n",
    "            os.mkdir(train_dir)\n",
    "        elif delete_previous == True:\n",
    "            shutil.rmtree(train_dir)\n",
    "            os.mkdir(train_dir)\n",
    "            train_dir = os.path.join(train_dir, 'input')\n",
    "            os.mkdir(train_dir)\n",
    "        \n",
    "        # Making val subfolder\n",
    "        val_dir = os.path.join(new_dir, 'val')\n",
    "        if not os.path.exists(val_dir):\n",
    "            os.mkdir(val_dir)\n",
    "            val_dir = os.path.join(val_dir, 'input')\n",
    "            os.mkdir(val_dir)\n",
    "        elif delete_previous == True:\n",
    "            shutil.rmtree(val_dir)\n",
    "            os.mkdir(val_dir)\n",
    "            val_dir = os.path.join(val_dir, 'input')\n",
    "            os.mkdir(val_dir)\n",
    "        \n",
    "        # Making test subfolder\n",
    "        test_dir = os.path.join(new_dir, 'test')\n",
    "        if not os.path.exists(test_dir):\n",
    "            os.mkdir(test_dir)\n",
    "            test_dir = os.path.join(test_dir, 'input')\n",
    "            os.mkdir(test_dir)\n",
    "        elif delete_previous == True:\n",
    "            shutil.rmtree(test_dir)\n",
    "            os.mkdir(test_dir)\n",
    "            test_dir = os.path.join(test_dir, 'input')\n",
    "            os.mkdir(test_dir)\n",
    "            \n",
    "        file_list = os.listdir(input_dir)\n",
    "        total_num_imgs = len(file_list)\n",
    "        train_percent = dataset_percentages[0]\n",
    "        val_percent = dataset_percentages[1]\n",
    "        test_percent = dataset_percentages[2]\n",
    "        valid_inputs = (train_percent >= test_percent and train_percent >= val_percent \n",
    "                        and train_percent <= 100 and val_percent <= 100 and test_percent <= 100\n",
    "                        and train_percent > 0 and val_percent > 0 and test_percent > 0 and\n",
    "                        train_percent + val_percent + test_percent == 100)\n",
    "        if valid_inputs:\n",
    "            num_train = int(round(total_num_imgs * train_percent//100))\n",
    "            num_val = int(round(total_num_imgs * val_percent//100))\n",
    "        else:\n",
    "            num_train = int(round(total_num_imgs * 0.9))\n",
    "            num_val = int(round((total_num_imgs - num_train)/2))\n",
    "            print('ERROR: Please input valid percentages for dataset division')\n",
    "            print('In place of a valid input the ratio 90% train, 5% val, 5% test was used')\n",
    "        \n",
    "        index = 0\n",
    "        random.shuffle(file_list)\n",
    "        for file in file_list:\n",
    "            filename = os.fsdecode(file)\n",
    "            filepath = os.path.join(input_dir, filename)\n",
    "            # Loads File\n",
    "            if filepath.endswith('.npy'):\n",
    "                array = np.load(filepath)*scale\n",
    "            else:\n",
    "                array = imageio.imread(filepath)*scale\n",
    "            if index < num_train:\n",
    "                new_filepath = os.path.join(train_dir, filename)\n",
    "            elif index <= num_train + num_val:\n",
    "                new_filepath = os.path.join(val_dir, filename)\n",
    "            else:\n",
    "                new_filepath = os.path.join(test_dir, filename)\n",
    "            # Saves File\n",
    "            if file_format == '.npy':\n",
    "                new_filepath = Path(new_filepath)\n",
    "                new_filepath = new_filepath.with_suffix('')\n",
    "                new_filepath = new_filepath.with_suffix(file_format)\n",
    "                np.save(new_filepath, array, allow_pickle=True, fix_imports=True)\n",
    "            else:\n",
    "                new_filepath = Path(new_filepath)\n",
    "                new_filepath = new_filepath.with_suffix('')\n",
    "                new_filepath = new_filepath.with_suffix(file_format)\n",
    "                imageio.imwrite(new_filepath, array)\n",
    "            index += 1\n",
    "        return train_dir, val_dir, test_dir\n",
    "    else:\n",
    "        print('ERROR: Please divide into train/test or train/val/test')"
   ]
  },
  {
   "cell_type": "code",
   "execution_count": 56,
   "metadata": {
    "colab": {},
    "colab_type": "code",
    "id": "9DBhIZspg35I"
   },
   "outputs": [
    {
     "name": "stdout",
     "output_type": "stream",
     "text": [
      "Starting Data Seperation...\n",
      "Ending Data Seperation...\n"
     ]
    }
   ],
   "source": [
    "input_dir = 'cleaned_data'\n",
    "dataset_percentages = (80, 10, 10)\n",
    "print('Starting Data Seperation...')\n",
    "train_dir, val_dir, test_dir = data_seperation(input_dir, dataset_percentages, \n",
    "                                               delete_previous = True, file_format = '.tif', \n",
    "                                               scale = 255)\n",
    "print('Ending Data Seperation...')"
   ]
  },
  {
   "cell_type": "markdown",
   "metadata": {
    "colab_type": "text",
    "id": "NmQuhivrg35K"
   },
   "source": [
    "### Code Block to Show How Much of Data has been Placed in various Subfolders (train/val/test)"
   ]
  },
  {
   "cell_type": "code",
   "execution_count": 20,
   "metadata": {
    "colab": {},
    "colab_type": "code",
    "id": "y9jHWHGXg35K"
   },
   "outputs": [
    {
     "name": "stdout",
     "output_type": "stream",
     "text": [
      "Length of raw_data directory = 391\n",
      "Length of converted_data directory = 293\n",
      "Rejected Files = 98\n",
      "Length of cleaned_data directory = 293\n",
      "Length of training directory = 234\n",
      "Length of validation directory = 30\n",
      "Length of test directory = 29\n"
     ]
    }
   ],
   "source": [
    "print('Length of raw_data directory = '+str(len(os.listdir('raw_data'))))\n",
    "print('Length of converted_data directory = '+str(len(os.listdir('converted_data'))))\n",
    "print('Rejected Files = ' + str(len(os.listdir('raw_data')) - len(os.listdir('converted_data'))))\n",
    "print('Length of cleaned_data directory = '+str(len(os.listdir('cleaned_data'))))\n",
    "print('Length of training directory = '+str(len(os.listdir(train_dir))))\n",
    "print('Length of validation directory = '+str(len(os.listdir(val_dir))))\n",
    "print('Length of test directory = '+str(len(os.listdir(test_dir))))"
   ]
  },
  {
   "cell_type": "markdown",
   "metadata": {
    "colab_type": "text",
    "id": "o2GmsjLvg35M"
   },
   "source": [
    "# Data Loading"
   ]
  },
  {
   "cell_type": "markdown",
   "metadata": {
    "colab_type": "text",
    "id": "7fo4CI9ng35V"
   },
   "source": [
    "## Padding Training Data and Adding Downsampled Image as Channel"
   ]
  },
  {
   "cell_type": "code",
   "execution_count": 57,
   "metadata": {},
   "outputs": [],
   "source": [
    "def pad_img_and_add_down_channel(array, downsample_axis = 'x', downsample_ratio = [0,2], shape = (224,224)):\n",
    "    if len(shape)>2:\n",
    "        shape = shape[0:2]\n",
    "    if len(array.shape) > 2:\n",
    "        array = array[...,0]\n",
    "    down_image = np.array(array, dtype = np.float32)\n",
    "    #print(full_image.shape)\n",
    "    if downsample_ratio[0] == 1:\n",
    "        downsample_ratio[0] = 0\n",
    "    elif downsample_ratio[1] == 1:\n",
    "        downsample_ratio[1] = 0\n",
    "    if downsample_axis == 'x':\n",
    "        downsample_ratio = downsample_ratio[1]\n",
    "        for j in range(array.shape[1]):\n",
    "            if j%downsample_ratio!=0:\n",
    "                down_image[:, j] = 0\n",
    "    elif downsample_axis == 'y':\n",
    "        downsample_ratio = downsample_ratio[0]\n",
    "        for i in range(array.shape[0]):\n",
    "            if i%downsampling_ratio[1]!=0:\n",
    "                down_image[i, :] = 0\n",
    "    elif downsample_axis == 'both':\n",
    "        downsample_ratio_x = downsample_ratio[1]\n",
    "        downsample_ratio_y = downsample_ratio[0]\n",
    "        if downsample_ratio_x > 0:\n",
    "            for j in range(array.shape[1]):\n",
    "                if j%downsample_ratio[1]!=0:\n",
    "                    down_image[:, j] = 0\n",
    "        if downsample_ratio_y > 0:\n",
    "            for i in range(array.shape[0]):\n",
    "                if i%downsample_ratio[0]!=0:\n",
    "                    down_image[i, :] = 0\n",
    "    full_x_shape = array.shape[0]\n",
    "    full_y_shape = array.shape[1]\n",
    "    if full_x_shape%shape[0] != 0:\n",
    "        x_left = full_x_shape%shape[0]\n",
    "        x_pad = (shape[0] - x_left)//2\n",
    "        rest_x = (shape[0] - x_left)%2\n",
    "    else:\n",
    "        x_left = 0\n",
    "        x_pad = 0\n",
    "        rest_x = 0\n",
    "    if full_y_shape%shape[1] != 0:\n",
    "        y_left = full_y_shape%shape[1]\n",
    "        y_pad = (shape[1] - y_left)//2\n",
    "        rest_y = (shape[1] - y_left)%2\n",
    "    else:\n",
    "        y_left = 0\n",
    "        y_pad = 0\n",
    "        rest_y = 0\n",
    "    \n",
    "    #print('x_left = '+str(x_left))\n",
    "    #print('y_left = '+str(y_left))\n",
    "    #print('x_pad = '+str(x_pad))\n",
    "    #print('y_pad = '+str(y_pad))\n",
    "    #print('rest_x = '+str(rest_x))\n",
    "    #print('rest_y = '+str(rest_y))\n",
    "    full_image = np.zeros((full_x_shape, full_y_shape, 3), dtype = np.float32)\n",
    "    full_image[...,0] = array # Target Array\n",
    "    full_image[...,1] = down_image # Downsampled Array\n",
    "    pad_image = np.pad(full_image, [(x_pad, ), (y_pad, ), (0,)], mode='constant', constant_values = 0)\n",
    "    padded_multi_chan_image = np.pad(pad_image, [(0, rest_x), (0, rest_y), (0, 0)], mode='constant', constant_values = 0)\n",
    "    return padded_multi_chan_image"
   ]
  },
  {
   "cell_type": "code",
   "execution_count": 77,
   "metadata": {
    "collapsed": true,
    "jupyter": {
     "outputs_hidden": true,
     "source_hidden": true
    }
   },
   "outputs": [
    {
     "name": "stdout",
     "output_type": "stream",
     "text": [
      "Original Image Shape = (196, 226)\n",
      "Padded Image Shape = (224, 448, 3)\n"
     ]
    },
    {
     "data": {
      "image/png": "[encoded data removed]",
      "text/plain": [
       "<Figure size 432x288 with 1 Axes>"
      ]
     },
     "metadata": {
      "needs_background": "light"
     },
     "output_type": "display_data"
    },
    {
     "data": {
      "image/png": "[encoded data removed]",
      "text/plain": [
       "<Figure size 432x288 with 1 Axes>"
      ]
     },
     "metadata": {
      "needs_background": "light"
     },
     "output_type": "display_data"
    },
    {
     "name": "stdout",
     "output_type": "stream",
     "text": [
      "\n",
      "Downsampled Image Non-Zero Pixel % = 0.08982382015306123\n",
      "\n"
     ]
    },
    {
     "data": {
      "image/png": "[encoded data removed]",
      "text/plain": [
       "<Figure size 432x288 with 1 Axes>"
      ]
     },
     "metadata": {
      "needs_background": "light"
     },
     "output_type": "display_data"
    }
   ],
   "source": [
    "img = np.array(imageio.imread('puppy.jpg'))\n",
    "if len(img.shape)>2:\n",
    "    img = np.mean(img, axis = 2)\n",
    "img = img/np.max(img)\n",
    "img = img[14:210,:113]\n",
    "img = np.hstack((img[:,:], img))\n",
    "print('Original Image Shape = '+str(img.shape))\n",
    "padded_multi_chan_image = pad_img_and_add_down_channel(img, downsample_axis = 'both', \n",
    "                                                       downsample_ratio = [0,5], shape = (224,224))\n",
    "print('Padded Image Shape = '+str(padded_multi_chan_image.shape))\n",
    "plt.imshow(padded_multi_chan_image[:,:,0], cmap = 'gray')\n",
    "plt.title('Axis = 0 -> Full Padded Image')\n",
    "plt.show()\n",
    "plt.imshow(padded_multi_chan_image[:,:,1], cmap = 'gray')\n",
    "plt.title('Axis = 1 -> Downsampled Padded Image')\n",
    "plt.show()\n",
    "print('\\n'+'Downsampled Image Non-Zero Pixel % = '+str(np.mean(padded_multi_chan_image[..., 1]>0))+'\\n')\n",
    "plt.imshow(padded_multi_chan_image[:,:,2], cmap = 'gray')\n",
    "plt.title('Axis = 2 -> Empty Channel For Compat. with RGB')\n",
    "plt.show()"
   ]
  },
  {
   "cell_type": "code",
   "execution_count": 58,
   "metadata": {
    "colab": {},
    "colab_type": "code",
    "id": "WUnyuesfg35W"
   },
   "outputs": [],
   "source": [
    "def standardize_dir(input_dir = 'data/train/input', downsample_axis = 'x', downsample_ratio = [0,2], \n",
    "                      standard_shape = (224, 224, 1), file_format = '.tif'):\n",
    "    file_list = os.listdir(input_dir)\n",
    "    for file in file_list:\n",
    "        # Load Image\n",
    "        filename = os.fsdecode(file)\n",
    "        filepath = os.path.join(input_dir, filename)\n",
    "        if filepath.endswith('.npy'):\n",
    "            array = np.load(filepath)\n",
    "        else:\n",
    "            array = imageio.imread(filepath)\n",
    "            array = np.array(array)\n",
    "        temp = pad_img_and_add_down_channel(array, downsample_axis = downsample_axis, \n",
    "                                            downsample_ratio = downsample_ratio, shape = standard_shape)\n",
    "        # Save Image\n",
    "        if file_format == '.npy':\n",
    "            new_filepath = Path(filepath)\n",
    "            new_filepath = new_filepath.with_suffix('')\n",
    "            new_filepath = Path(os.path.abspath(new_filepath)+ '_pad')\n",
    "            new_filepath = new_filepath.with_suffix(file_format)\n",
    "            np.save(new_filepath, temp, allow_pickle=True, fix_imports=True)\n",
    "        else:\n",
    "            new_filepath = Path(filepath)\n",
    "            new_filepath = new_filepath.with_suffix('')\n",
    "            new_filepath = Path(os.path.abspath(new_filepath)+ '_pad')\n",
    "            new_filepath = new_filepath.with_suffix(file_format)\n",
    "            imageio.imwrite(new_filepath, temp)\n",
    "        os.remove(filepath)\n",
    "    return len(os.listdir(input_dir))"
   ]
  },
  {
   "cell_type": "code",
   "execution_count": 61,
   "metadata": {
    "colab": {},
    "colab_type": "code",
    "id": "hh78mm5_g35Y"
   },
   "outputs": [
    {
     "name": "stdout",
     "output_type": "stream",
     "text": [
      "total_train_image_pool = 234\n"
     ]
    }
   ],
   "source": [
    "input_dir = 'data/train/input'\n",
    "STANDARD_IMAGE_SHAPE = (224,224,1)\n",
    "total_train_image_pool = standardize_dir(input_dir = input_dir, downsample_axis = 'x', downsample_ratio = [0,5], \n",
    "                                               standard_shape = STANDARD_IMAGE_SHAPE, file_format = '.tif')\n",
    "print('total_train_image_pool = ' + str(total_train_image_pool))"
   ]
  },
  {
   "cell_type": "code",
   "execution_count": 60,
   "metadata": {
    "colab": {},
    "colab_type": "code",
    "id": "dcU9kOvTg35d"
   },
   "outputs": [
    {
     "name": "stdout",
     "output_type": "stream",
     "text": [
      "total_val_image_pool = 30\n"
     ]
    }
   ],
   "source": [
    "input_dir = 'data/val/input'\n",
    "STANDARD_IMAGE_SHAPE = (224,224,1)\n",
    "total_val_image_pool = standardize_dir(input_dir = input_dir, downsample_axis = 'x', downsample_ratio = [0,5], \n",
    "                                             standard_shape = STANDARD_IMAGE_SHAPE, file_format = '.tif')\n",
    "print('total_val_image_pool = ' + str(total_val_image_pool))"
   ]
  },
  {
   "cell_type": "code",
   "execution_count": 59,
   "metadata": {
    "colab": {},
    "colab_type": "code",
    "id": "Gb1xMjYNg35g"
   },
   "outputs": [
    {
     "name": "stdout",
     "output_type": "stream",
     "text": [
      "total_test_image_pool = 29\n"
     ]
    }
   ],
   "source": [
    "input_dir = 'data/test/input'\n",
    "STANDARD_IMAGE_SHAPE = (224,224,1)\n",
    "total_test_image_pool = standardize_dir(input_dir = input_dir, downsample_axis = 'x', downsample_ratio = [0,5], \n",
    "                                                 standard_shape = STANDARD_IMAGE_SHAPE, file_format = '.tif')\n",
    "print('total_test_image_pool = ' + str(total_test_image_pool))"
   ]
  },
  {
   "cell_type": "markdown",
   "metadata": {
    "colab_type": "text",
    "id": "QFIyuzErg35i"
   },
   "source": [
    "## Data Loader and Augmentation"
   ]
  },
  {
   "cell_type": "code",
   "execution_count": 4,
   "metadata": {
    "colab": {},
    "colab_type": "code",
    "id": "Z26g9ZJ6g35i"
   },
   "outputs": [],
   "source": [
    "def preprocess_function(image, prob = 0.2):\n",
    "    img = image.copy()\n",
    "    #img = add_gaussian_noise(img, std = 0.1, prob = 0.25)\n",
    "    img = exposure.rescale_intensity(img, in_range='image', out_range=(0,1))\n",
    "    #print(img.shape)\n",
    "    return img"
   ]
  },
  {
   "cell_type": "code",
   "execution_count": 5,
   "metadata": {
    "colab": {},
    "colab_type": "code",
    "id": "NcqSsR2mg35k"
   },
   "outputs": [],
   "source": [
    "def preprocess_function_valtest(image):\n",
    "    img = image.copy()\n",
    "    img = exposure.rescale_intensity(img, in_range='image', out_range=(0,1))\n",
    "    return img"
   ]
  },
  {
   "cell_type": "code",
   "execution_count": 6,
   "metadata": {},
   "outputs": [],
   "source": [
    "def add_gaussian_noise(batch, mean_val = 0, std = 0.1, prob = 0.2):\n",
    "    rand_var = tf.random.uniform(shape = [1]).numpy()[0]\n",
    "    batch_and_noise = batch\n",
    "    if rand_var < prob:\n",
    "        noise = tf.random.normal(shape=tf.shape(batch), mean=mean_val, stddev=std, dtype=tf.float32)\n",
    "        batch_and_noise = tf.math.add(batch,noise)\n",
    "        batch_and_noise = batch_and_noise.numpy()\n",
    "    return batch_and_noise"
   ]
  },
  {
   "cell_type": "code",
   "execution_count": 7,
   "metadata": {
    "colab": {},
    "colab_type": "code",
    "id": "RD_57OwMg35o"
   },
   "outputs": [],
   "source": [
    "MIN_SHAPE = (224,224)\n",
    "BATCH_SIZE = 32\n",
    "train_dir = 'data/train'\n",
    "val_dir = 'data/val'\n",
    "test_dir = 'data/test'"
   ]
  },
  {
   "cell_type": "code",
   "execution_count": 8,
   "metadata": {},
   "outputs": [
    {
     "name": "stdout",
     "output_type": "stream",
     "text": [
      "Found 234 images belonging to 1 classes.\n",
      "Found 30 images belonging to 1 classes.\n",
      "Found 29 images belonging to 1 classes.\n"
     ]
    }
   ],
   "source": [
    "data_gen_args_train = dict(#featurewise_center=True,\n",
    "                           #featurewise_std_normalization=True,\n",
    "                           horizontal_flip=True,\n",
    "                           vertical_flip = True,\n",
    "                           rotation_range=20,\n",
    "                           width_shift_range=0.1,\n",
    "                           height_shift_range=0.1,\n",
    "                           fill_mode = 'constant',\n",
    "                           cval = 0,\n",
    "                           preprocessing_function = preprocess_function,\n",
    "                           dtype='float32')\n",
    "train_datagen = ImageDataGenerator(**data_gen_args_train)\n",
    "data_gen_args_test_and_val = dict(#featurewise_center=True,\n",
    "                                  #featurewise_std_normalization=True,\n",
    "                                  preprocessing_function = preprocess_function_valtest)\n",
    "test_and_val_datagen = ImageDataGenerator(**data_gen_args_test_and_val)\n",
    "\n",
    "# Flow From Directory Generators\n",
    "train_generator = train_datagen.flow_from_directory(train_dir,\n",
    "                                                    target_size=MIN_SHAPE,\n",
    "                                                    batch_size=BATCH_SIZE,\n",
    "                                                    class_mode=None,\n",
    "                                                    interpolation = 'lanczos:random', # Monkey Patch - preprocess_crop.py\n",
    "                                                    color_mode='rgb',\n",
    "                                                    shuffle = True)\n",
    "\n",
    "validation_generator = test_and_val_datagen.flow_from_directory(val_dir,\n",
    "                                                                target_size=MIN_SHAPE,\n",
    "                                                                batch_size=BATCH_SIZE,\n",
    "                                                                class_mode=None,\n",
    "                                                                interpolation = 'lanczos:center', # Monkey Patch - preprocess_crop.py\n",
    "                                                                color_mode='rgb',\n",
    "                                                                shuffle = True)\n",
    "test_generator = test_and_val_datagen.flow_from_directory(test_dir,\n",
    "                                                          target_size=MIN_SHAPE,\n",
    "                                                          batch_size=BATCH_SIZE,\n",
    "                                                          class_mode=None,\n",
    "                                                          interpolation = 'lanczos:center', # Monkey Patch - preprocess_crop.py\n",
    "                                                          color_mode='rgb', \n",
    "                                                          shuffle = False)"
   ]
  },
  {
   "cell_type": "code",
   "execution_count": 9,
   "metadata": {},
   "outputs": [],
   "source": [
    "def custom_generator_wrapper(gen):\n",
    "    for data in gen:\n",
    "        orig_img = data[...,0] # target\n",
    "        down_img = data[...,1] # input\n",
    "        # Third channel is empty and only there for compatibility\n",
    "        yield down_img[..., None], orig_img[..., None]"
   ]
  },
  {
   "cell_type": "markdown",
   "metadata": {
    "colab_type": "text",
    "id": "cr_FDSPeg35s"
   },
   "source": [
    "## Model Definition for U-Net"
   ]
  },
  {
   "cell_type": "code",
   "execution_count": 10,
   "metadata": {
    "colab": {},
    "colab_type": "code",
    "id": "o9z_e6fNg35t"
   },
   "outputs": [],
   "source": [
    "#from UNet_model_simp_with_phys_layer import UNet_model_simp_with_phys_layer\n",
    "from UNet_model_simp import UNet_model_simp"
   ]
  },
  {
   "cell_type": "markdown",
   "metadata": {},
   "source": [
    "### Hyperparameters"
   ]
  },
  {
   "cell_type": "code",
   "execution_count": 11,
   "metadata": {},
   "outputs": [],
   "source": [
    "EPOCHS = 10 #3500\n",
    "FILTERS = 32\n",
    "INITIAL_LR = 0.001\n",
    "ACTIVATION = 'elu'\n",
    "KERNEL_SIZE = 3 # 3x3 kernel"
   ]
  },
  {
   "cell_type": "markdown",
   "metadata": {},
   "source": [
    "### Compiling and Training Model"
   ]
  },
  {
   "cell_type": "code",
   "execution_count": 12,
   "metadata": {
    "colab": {},
    "colab_type": "code",
    "id": "f8b7iOs3g35v"
   },
   "outputs": [],
   "source": [
    "unet_model = UNet_model_simp(filters = FILTERS, kernel_size = KERNEL_SIZE, activation = ACTIVATION)"
   ]
  },
  {
   "cell_type": "code",
   "execution_count": 13,
   "metadata": {},
   "outputs": [],
   "source": [
    "# Custom Metrics:\n",
    "def PSNR(y_true, y_pred):\n",
    "    max_pixel = 1.0\n",
    "    return tf.image.psnr(y_true, y_pred, max_pixel)\n",
    "def SSIM(y_true, y_pred):\n",
    "    max_pixel = 1.0\n",
    "    return tf.image.ssim(y_true,y_pred,max_pixel,filter_size=11,\n",
    "                         filter_sigma=1.5,k1=0.01,k2=0.03)"
   ]
  },
  {
   "cell_type": "code",
   "execution_count": 14,
   "metadata": {
    "colab": {},
    "colab_type": "code",
    "id": "XUgou4RWg35x"
   },
   "outputs": [],
   "source": [
    "unet_model.compile(optimizer=tf.keras.optimizers.Adam(learning_rate = INITIAL_LR),  # pick an optimizer\n",
    "                   loss= unet_model.loss_func,  # pick a loss\n",
    "                   metrics=['mean_absolute_error', 'mean_squared_error', PSNR, SSIM])  # pick a metric to monitor"
   ]
  },
  {
   "cell_type": "code",
   "execution_count": 15,
   "metadata": {
    "colab": {},
    "colab_type": "code",
    "id": "Y_xdIjQAg351",
    "outputId": "cc88daf4-f8ef-482c-99a9-cc603da1ba4b"
   },
   "outputs": [
    {
     "name": "stdout",
     "output_type": "stream",
     "text": [
      "Epoch 1/10\n",
      "80/80 [==============================] - 127s 2s/step - loss: 0.1328 - mean_absolute_error: 0.2983 - mean_squared_error: 0.3618 - PSNR: 12.9214 - SSIM: 0.2103 - val_loss: 0.0647 - val_mean_absolute_error: 0.0647 - val_mean_squared_error: 0.0081 - val_PSNR: 21.1521 - val_SSIM: 0.6130\n",
      "Epoch 2/10\n",
      "80/80 [==============================] - 112s 1s/step - loss: 0.0439 - mean_absolute_error: 0.0469 - mean_squared_error: 0.0047 - PSNR: 23.8534 - SSIM: 0.5934 - val_loss: 0.0498 - val_mean_absolute_error: 0.0498 - val_mean_squared_error: 0.0048 - val_PSNR: 23.4572 - val_SSIM: 0.7726\n",
      "Epoch 3/10\n",
      "80/80 [==============================] - 118s 1s/step - loss: 0.0407 - mean_absolute_error: 0.0420 - mean_squared_error: 0.0041 - PSNR: 24.6167 - SSIM: 0.6750 - val_loss: 0.0467 - val_mean_absolute_error: 0.0467 - val_mean_squared_error: 0.0048 - val_PSNR: 23.4366 - val_SSIM: 0.7608\n",
      "Epoch 4/10\n",
      "80/80 [==============================] - 117s 1s/step - loss: 0.0382 - mean_absolute_error: 0.0383 - mean_squared_error: 0.0036 - PSNR: 25.1660 - SSIM: 0.7178 - val_loss: 0.0363 - val_mean_absolute_error: 0.0363 - val_mean_squared_error: 0.0032 - val_PSNR: 25.3894 - val_SSIM: 0.8359\n",
      "Epoch 5/10\n",
      "80/80 [==============================] - 117s 1s/step - loss: 0.0342 - mean_absolute_error: 0.0336 - mean_squared_error: 0.0029 - PSNR: 26.0501 - SSIM: 0.7416 - val_loss: 0.0341 - val_mean_absolute_error: 0.0341 - val_mean_squared_error: 0.0030 - val_PSNR: 25.7067 - val_SSIM: 0.8404\n",
      "Epoch 6/10\n",
      "80/80 [==============================] - 117s 1s/step - loss: 0.0328 - mean_absolute_error: 0.0315 - mean_squared_error: 0.0027 - PSNR: 26.4957 - SSIM: 0.7703 - val_loss: 0.0341 - val_mean_absolute_error: 0.0341 - val_mean_squared_error: 0.0028 - val_PSNR: 26.0474 - val_SSIM: 0.8648\n",
      "Epoch 7/10\n",
      "80/80 [==============================] - 117s 1s/step - loss: 0.0308 - mean_absolute_error: 0.0291 - mean_squared_error: 0.0025 - PSNR: 26.8061 - SSIM: 0.8037 - val_loss: 0.0571 - val_mean_absolute_error: 0.0571 - val_mean_squared_error: 0.0058 - val_PSNR: 22.7070 - val_SSIM: 0.7481\n",
      "Epoch 8/10\n",
      "80/80 [==============================] - 117s 1s/step - loss: 0.0293 - mean_absolute_error: 0.0310 - mean_squared_error: 0.0027 - PSNR: 26.5716 - SSIM: 0.7557 - val_loss: 0.0313 - val_mean_absolute_error: 0.0313 - val_mean_squared_error: 0.0026 - val_PSNR: 26.4314 - val_SSIM: 0.8692\n",
      "Epoch 9/10\n",
      "80/80 [==============================] - 117s 1s/step - loss: 0.0298 - mean_absolute_error: 0.0295 - mean_squared_error: 0.0025 - PSNR: 26.8637 - SSIM: 0.7806 - val_loss: 0.0304 - val_mean_absolute_error: 0.0304 - val_mean_squared_error: 0.0024 - val_PSNR: 26.8333 - val_SSIM: 0.8887\n",
      "Epoch 10/10\n",
      "80/80 [==============================] - 117s 1s/step - loss: 0.0300 - mean_absolute_error: 0.0275 - mean_squared_error: 0.0023 - PSNR: 27.2661 - SSIM: 0.8037 - val_loss: 0.0489 - val_mean_absolute_error: 0.0489 - val_mean_squared_error: 0.0042 - val_PSNR: 24.0850 - val_SSIM: 0.6994\n"
     ]
    }
   ],
   "source": [
    "train_dir = 'data/train/input'\n",
    "val_dir = 'data/val/input'\n",
    "AUGMENTATIONS = 10\n",
    "history = unet_model.fit_generator(custom_generator_wrapper(train_generator),\n",
    "                                   steps_per_epoch=AUGMENTATIONS*np.ceil(len(os.listdir(train_dir))/ BATCH_SIZE),\n",
    "                                   epochs=EPOCHS,\n",
    "                                   validation_data=custom_generator_wrapper(validation_generator),\n",
    "                                   validation_steps=np.ceil(len(os.listdir(val_dir))/ BATCH_SIZE),\n",
    "                                   shuffle = True)"
   ]
  },
  {
   "cell_type": "markdown",
   "metadata": {},
   "source": [
    "## Analysis of Model Training"
   ]
  },
  {
   "cell_type": "code",
   "execution_count": 16,
   "metadata": {
    "colab": {},
    "colab_type": "code",
    "id": "GLQNY0gug354",
    "outputId": "904f230a-ebf3-4382-83c5-0fdf391fbbfa"
   },
   "outputs": [
    {
     "data": {
      "image/png": "[encoded data removed]",
      "text/plain": [
       "<Figure size 432x288 with 1 Axes>"
      ]
     },
     "metadata": {
      "needs_background": "light"
     },
     "output_type": "display_data"
    }
   ],
   "source": [
    "plt.plot(history.history['loss'])\n",
    "plt.plot(history.history['val_loss'])\n",
    "plt.title('Model Loss')\n",
    "plt.ylabel('Loss')\n",
    "plt.xlabel('Epoch')\n",
    "plt.legend([\"train\", \"test\"], loc = \"upper left\")\n",
    "plt.show()"
   ]
  },
  {
   "cell_type": "code",
   "execution_count": 17,
   "metadata": {
    "colab": {},
    "colab_type": "code",
    "id": "45VEypvjg356",
    "outputId": "f519db8c-a17b-4448-c01c-4f1ba3c36ead"
   },
   "outputs": [
    {
     "data": {
      "image/png": "[encoded data removed]",
      "text/plain": [
       "<Figure size 432x288 with 1 Axes>"
      ]
     },
     "metadata": {
      "needs_background": "light"
     },
     "output_type": "display_data"
    }
   ],
   "source": [
    "plt.plot(history.history['mean_absolute_error'])\n",
    "plt.plot(history.history['val_mean_absolute_error'])\n",
    "plt.title('Mean Absolute Error')\n",
    "plt.ylabel('Mean Absolute Error')\n",
    "plt.xlabel('Epoch')\n",
    "plt.legend([\"train\", \"test\"], loc = \"upper left\")\n",
    "plt.show()"
   ]
  },
  {
   "cell_type": "code",
   "execution_count": 16,
   "metadata": {},
   "outputs": [
    {
     "data": {
      "image/png": "[encoded data removed]",
      "text/plain": [
       "<Figure size 432x288 with 1 Axes>"
      ]
     },
     "metadata": {
      "needs_background": "light"
     },
     "output_type": "display_data"
    }
   ],
   "source": [
    "plt.plot(history.history['mean_squared_error'])\n",
    "plt.plot(history.history['val_mean_squared_error'])\n",
    "plt.title('Mean Squared Error')\n",
    "plt.ylabel('Mean Squared Error')\n",
    "plt.xlabel('Epoch')\n",
    "plt.legend([\"train\", \"test\"], loc = \"upper left\")\n",
    "plt.show()"
   ]
  },
  {
   "cell_type": "code",
   "execution_count": 18,
   "metadata": {},
   "outputs": [
    {
     "data": {
      "image/png": "[encoded data removed]",
      "text/plain": [
       "<Figure size 432x288 with 1 Axes>"
      ]
     },
     "metadata": {
      "needs_background": "light"
     },
     "output_type": "display_data"
    }
   ],
   "source": [
    "plt.plot(history.history['PSNR'])\n",
    "plt.plot(history.history['val_PSNR'])\n",
    "plt.title('Peak Signal-to-Noise')\n",
    "plt.ylabel('PSNR')\n",
    "plt.xlabel('Epoch')\n",
    "plt.legend([\"train\", \"test\"], loc = \"upper left\")\n",
    "plt.show()"
   ]
  },
  {
   "cell_type": "code",
   "execution_count": 19,
   "metadata": {},
   "outputs": [
    {
     "data": {
      "image/png": "[encoded data removed]",
      "text/plain": [
       "<Figure size 432x288 with 1 Axes>"
      ]
     },
     "metadata": {
      "needs_background": "light"
     },
     "output_type": "display_data"
    }
   ],
   "source": [
    "plt.plot(history.history['SSIM'])\n",
    "plt.plot(history.history['val_SSIM'])\n",
    "plt.title('Structural Similarity Index')\n",
    "plt.ylabel('SSIM')\n",
    "plt.xlabel('Epoch')\n",
    "plt.legend([\"train\", \"test\"], loc = \"upper left\")\n",
    "plt.show()"
   ]
  },
  {
   "cell_type": "markdown",
   "metadata": {},
   "source": [
    "### Model Architecture"
   ]
  },
  {
   "cell_type": "code",
   "execution_count": 36,
   "metadata": {
    "colab": {},
    "colab_type": "code",
    "id": "5v1l_1X3g358",
    "outputId": "bbc99361-04c0-4bb7-a616-2672a0c56a8a"
   },
   "outputs": [
    {
     "name": "stdout",
     "output_type": "stream",
     "text": [
      "Model: \"UNet_model_simp_with_phys_layer\"\n",
      "_________________________________________________________________\n",
      "Layer (type)                 Output Shape              Param #   \n",
      "=================================================================\n",
      "Fast_Scan_Downsample (Fast_S multiple                  50176     \n",
      "_________________________________________________________________\n",
      "UNet_DownBlock (UNet_DownBlo multiple                  9824      \n",
      "_________________________________________________________________\n",
      "UNet_DownBlock (UNet_DownBlo multiple                  55936     \n",
      "_________________________________________________________________\n",
      "UNet_DownBlock (UNet_DownBlo multiple                  222464    \n",
      "_________________________________________________________________\n",
      "UNet_DownBlock (UNet_DownBlo multiple                  887296    \n",
      "_________________________________________________________________\n",
      "UNet_UpBlock (UNet_UpBlock)  multiple                  4724992   \n",
      "_________________________________________________________________\n",
      "UNet_UpBlock (UNet_UpBlock)  multiple                  2067584   \n",
      "_________________________________________________________________\n",
      "UNet_UpBlock (UNet_UpBlock)  multiple                  517696    \n",
      "_________________________________________________________________\n",
      "UNet_UpBlock (UNet_UpBlock)  multiple                  129824    \n",
      "_________________________________________________________________\n",
      "Conv2D_BatchNorm (Conv2D_Bat multiple                  18592     \n",
      "_________________________________________________________________\n",
      "Conv2D_BatchNorm (Conv2D_Bat multiple                  9376      \n",
      "_________________________________________________________________\n",
      "conv2d_45 (Conv2D)           multiple                  33        \n",
      "_________________________________________________________________\n",
      "concatenate_1 (Concatenate)  multiple                  0         \n",
      "_________________________________________________________________\n",
      "add_1 (Add)                  multiple                  0         \n",
      "=================================================================\n",
      "Total params: 8,693,793\n",
      "Trainable params: 8,686,945\n",
      "Non-trainable params: 6,848\n",
      "_________________________________________________________________\n"
     ]
    }
   ],
   "source": [
    "unet_model.summary()"
   ]
  },
  {
   "cell_type": "markdown",
   "metadata": {},
   "source": [
    "## Save Model"
   ]
  },
  {
   "cell_type": "code",
   "execution_count": 21,
   "metadata": {},
   "outputs": [],
   "source": [
    "def save_history(history, output_dir):\n",
    "    directory = os.path.join(os.getcwd(), output_dir)\n",
    "    if not os.path.exists(directory):\n",
    "        os.mkdir(directory)\n",
    "    filepath = os.path.join(directory, 'history')\n",
    "    np.savez(filepath, **history.history)"
   ]
  },
  {
   "cell_type": "code",
   "execution_count": 22,
   "metadata": {},
   "outputs": [
    {
     "name": "stdout",
     "output_type": "stream",
     "text": [
      "WARNING:tensorflow:From D:\\Programs\\Anaconda\\envs\\tf\\lib\\site-packages\\tensorflow_core\\python\\ops\\resource_variable_ops.py:1781: calling BaseResourceVariable.__init__ (from tensorflow.python.ops.resource_variable_ops) with constraint is deprecated and will be removed in a future version.\n",
      "Instructions for updating:\n",
      "If using Keras pass *_constraint arguments to layers.\n",
      "INFO:tensorflow:Assets written to: saved_uni_down_80_v6\\assets\n"
     ]
    }
   ],
   "source": [
    "output_dir = 'saved_uni_down_80_v6'\n",
    "if not os.path.exists(os.path.join(os.getcwd(), output_dir)):\n",
    "    os.mkdir(os.path.join(os.getcwd(), output_dir))\n",
    "#unet_model.trainable = False\n",
    "tf.keras.models.save_model(unet_model,\n",
    "                           output_dir,\n",
    "                           overwrite=True,\n",
    "                           include_optimizer=True,\n",
    "                           save_format='tf',\n",
    "                           signatures=None,\n",
    "                           options=None)\n",
    "save_history(history, output_dir)"
   ]
  },
  {
   "cell_type": "code",
   "execution_count": 34,
   "metadata": {},
   "outputs": [
    {
     "name": "stdout",
     "output_type": "stream",
     "text": [
      "WARNING:tensorflow:Skipping full serialization of Keras layer <tensorflow.python.keras.layers.core.Flatten object at 0x0000021C70BE9248>, because it is not built.\n",
      "INFO:tensorflow:Assets written to: saved_model\\assets\n"
     ]
    }
   ],
   "source": [
    "#unet_model.save('saved_model')"
   ]
  },
  {
   "cell_type": "markdown",
   "metadata": {},
   "source": [
    "## Load Model (for prediction)"
   ]
  },
  {
   "cell_type": "markdown",
   "metadata": {},
   "source": [
    "### Copy and Paste Hyperparameters Used (From Text File)"
   ]
  },
  {
   "cell_type": "code",
   "execution_count": 15,
   "metadata": {},
   "outputs": [],
   "source": [
    "from UNet_model_simp import UNet_model_simp\n",
    "# FILTERS = 32\n",
    "# INITIAL_LR = 0.001\n",
    "# ACTIVATION = 'elu'\n",
    "# KERNEL_SIZE = 3 # 3x3 kernel\n",
    "# ALPHA = 1.0\n",
    "# ALPHA_GROWTH_RATE = 0.005 #0.01#0.0001#0.0000001#0.01\n",
    "# ALPHA_GROWTH_SCHEDULE = 2 #20\n",
    "# GAMMA = 0.05 #0.1#1e-4#1e-6#5e-10\n",
    "# SPARSITY = 4/5 #1/2#2/3 #0.5\n",
    "# WANT_PHYS_LAYER = True\n",
    "# LEARN_PHYS = True\n",
    "EPOCHS = 3500 #3500\n",
    "FILTERS = 32\n",
    "INITIAL_LR = 0.001\n",
    "ACTIVATION = 'elu'\n",
    "KERNEL_SIZE = 3 # 3x3 kernel"
   ]
  },
  {
   "cell_type": "code",
   "execution_count": 16,
   "metadata": {},
   "outputs": [
    {
     "name": "stdout",
     "output_type": "stream",
     "text": [
      "1/1 [==============================] - 8s 8s/step - loss: 1.0843 - mean_absolute_error: 1.0843 - val_loss: 0.4417 - val_mean_absolute_error: 0.4417\n"
     ]
    }
   ],
   "source": [
    "token = UNet_model_simp(filters = FILTERS, kernel_size = KERNEL_SIZE, activation = ACTIVATION)\n",
    "token.compile(optimizer=tf.keras.optimizers.Adam(learning_rate = INITIAL_LR),  # pick an optimizer\n",
    "              loss=token.loss_func,  # pick a loss\n",
    "              metrics=['mean_absolute_error'])  # pick a metric to monitor\n",
    "hist_tok = token.fit_generator(train_generator,\n",
    "                               steps_per_epoch=np.ceil(len(os.listdir(train_dir))/ BATCH_SIZE),\n",
    "                               epochs=1,\n",
    "                               validation_data=validation_generator,\n",
    "                               validation_steps=np.ceil(len(os.listdir(val_dir))/ BATCH_SIZE),\n",
    "                               shuffle = True)"
   ]
  },
  {
   "cell_type": "code",
   "execution_count": 17,
   "metadata": {},
   "outputs": [
    {
     "name": "stdout",
     "output_type": "stream",
     "text": [
      "Loading Model...\n",
      "Done Loading Model from: saved_uni_down_80_v5\n"
     ]
    }
   ],
   "source": [
    "from UNet_model_simp import UNet_model_simp\n",
    "from UNet_model_simp import UNet_DownBlock\n",
    "from UNet_model_simp import UNet_UpBlock\n",
    "from UNet_model_simp import Conv2D_BatchNorm\n",
    "from UNet_model_simp import Upsample_Conv2D_BatchNorm\n",
    "print('Loading Model...')\n",
    "custom_objects={'UNet_DownBlock' : UNet_DownBlock,\n",
    "                'UNet_UpBlock' : UNet_UpBlock,\n",
    "                'Conv2D_BatchNorm' : Conv2D_BatchNorm,\n",
    "                'Upsample_Conv2D_BatchNorm' : Upsample_Conv2D_BatchNorm,\n",
    "                'total_loss' : token.loss_func}\n",
    "input_dir = 'saved_uni_down_80'\n",
    "saved_model = tf.keras.models.load_model(input_dir, custom_objects = custom_objects, compile = False)\n",
    "saved_model.compile(optimizer=tf.keras.optimizers.Adam(learning_rate = INITIAL_LR),  # pick an optimizer\n",
    "                    loss=token.loss_func,  # pick a loss\n",
    "                    metrics=['mean_absolute_error', 'mean_squared_error', PSNR, SSIM])  # pick a metric to monitor\n",
    "print('Done Loading Model from: ' + input_dir)"
   ]
  },
  {
   "cell_type": "code",
   "execution_count": 31,
   "metadata": {},
   "outputs": [],
   "source": [
    "def load_history_from_saved(directory):\n",
    "    direct = os.path.join(os.getcwd(), directory)\n",
    "    filepath = os.path.join(direct, 'history.npz')\n",
    "    array = np.load(filepath, allow_pickle=True, fix_imports=True)\n",
    "    return array"
   ]
  },
  {
   "cell_type": "code",
   "execution_count": 32,
   "metadata": {},
   "outputs": [],
   "source": [
    "def show_history(hist):\n",
    "    plt.plot(hist['loss'])\n",
    "    plt.plot(hist['val_loss'])\n",
    "    plt.title('Model Loss')\n",
    "    plt.ylabel('Loss')\n",
    "    plt.xlabel('Epoch')\n",
    "    plt.legend([\"train\", \"test\"], loc = \"upper left\")\n",
    "    plt.show()\n",
    "    \n",
    "    plt.plot(hist['mean_absolute_error'])\n",
    "    plt.plot(hist['val_mean_absolute_error'])\n",
    "    plt.title('Mean Absolute Error')\n",
    "    plt.ylabel('Mean Absolute Error')\n",
    "    plt.xlabel('Epoch')\n",
    "    plt.legend([\"train\", \"test\"], loc = \"upper left\")\n",
    "    plt.show()\n",
    "    \n",
    "    plt.plot(hist['mean_squared_error'])\n",
    "    plt.plot(hist['val_mean_squared_error'])\n",
    "    plt.title('Mean Squared Error')\n",
    "    plt.ylabel('Mean Squared Error')\n",
    "    plt.xlabel('Epoch')\n",
    "    plt.legend([\"train\", \"test\"], loc = \"upper left\")\n",
    "    plt.show()\n",
    "    \n",
    "    plt.plot(hist['PSNR'])\n",
    "    plt.plot(hist['val_PSNR'])\n",
    "    plt.title('Peak Signal-to-Noise')\n",
    "    plt.ylabel('PSNR')\n",
    "    plt.xlabel('Epoch')\n",
    "    plt.legend([\"train\", \"test\"], loc = \"upper left\")\n",
    "    plt.show()\n",
    "    \n",
    "    plt.plot(hist['SSIM'])\n",
    "    plt.plot(hist['val_SSIM'])\n",
    "    plt.title('Structural Similarity Index')\n",
    "    plt.ylabel('SSIM')\n",
    "    plt.xlabel('Epoch')\n",
    "    plt.legend([\"train\", \"test\"], loc = \"upper left\")\n",
    "    plt.show()"
   ]
  },
  {
   "cell_type": "markdown",
   "metadata": {},
   "source": [
    "## Analysis of Model Output/Results"
   ]
  },
  {
   "cell_type": "code",
   "execution_count": 22,
   "metadata": {
    "colab": {},
    "colab_type": "code",
    "id": "mpld2N5xg35_",
    "outputId": "0d628e49-ae6b-460e-e177-cff6e294c646"
   },
   "outputs": [
    {
     "name": "stdout",
     "output_type": "stream",
     "text": [
      "(29, 224, 224, 1)\n"
     ]
    }
   ],
   "source": [
    "predictions_curr = unet_model.predict_generator(custom_generator_wrapper(test_generator), steps = 1)\n",
    "print(predictions_curr.shape)"
   ]
  },
  {
   "cell_type": "code",
   "execution_count": 32,
   "metadata": {
    "colab": {},
    "colab_type": "code",
    "id": "BUtBLQ9Wg36A",
    "outputId": "916786ad-2b43-4375-81ea-828636d36b11"
   },
   "outputs": [
    {
     "data": {
      "image/png": "[encoded data removed]",
      "text/plain": [
       "<Figure size 432x288 with 1 Axes>"
      ]
     },
     "metadata": {
      "needs_background": "light"
     },
     "output_type": "display_data"
    }
   ],
   "source": [
    "plt.imshow(predictions_curr[4,:,:,0], cmap = 'gray')\n",
    "plt.show()"
   ]
  },
  {
   "cell_type": "markdown",
   "metadata": {
    "colab_type": "text",
    "id": "CXxH1_bIg36D"
   },
   "source": [
    "# Scratchpad"
   ]
  },
  {
   "cell_type": "code",
   "execution_count": null,
   "metadata": {
    "colab": {},
    "colab_type": "code",
    "id": "MD7Vs5kkg36E"
   },
   "outputs": [],
   "source": [
    "data = np.empty(1)\n",
    "print(data.shape)\n",
    "dir = 'converted_data'\n",
    "iter = 0\n",
    "for file in os.listdir(dir):\n",
    "        filename = os.fsdecode(file)\n",
    "        temp = np.load(dir+'/'+filename)\n",
    "        temp = temp[..., None]\n",
    "        print(temp.shape)\n",
    "        data[iter, :, :, :] = temp\n",
    "        iter += 1 "
   ]
  },
  {
   "cell_type": "code",
   "execution_count": null,
   "metadata": {
    "colab": {},
    "colab_type": "code",
    "id": "8FlKa1mCg36F"
   },
   "outputs": [],
   "source": [
    "im = Image.open('./data/train/190304_brain 1_Image0.tif')"
   ]
  },
  {
   "cell_type": "code",
   "execution_count": null,
   "metadata": {
    "colab": {},
    "colab_type": "code",
    "id": "10Qu_yceg36H"
   },
   "outputs": [],
   "source": [
    "im.show()"
   ]
  },
  {
   "cell_type": "code",
   "execution_count": null,
   "metadata": {
    "colab": {},
    "colab_type": "code",
    "id": "tN5xnBBmg36N"
   },
   "outputs": [],
   "source": [
    "imarray = np.array(im)*255"
   ]
  },
  {
   "cell_type": "code",
   "execution_count": null,
   "metadata": {
    "colab": {},
    "colab_type": "code",
    "id": "A2aOLjh7g36O"
   },
   "outputs": [],
   "source": [
    "np.max(imarray)"
   ]
  },
  {
   "cell_type": "code",
   "execution_count": null,
   "metadata": {
    "colab": {},
    "colab_type": "code",
    "id": "qELEL43yg36Q"
   },
   "outputs": [],
   "source": [
    "im = Image.fromarray(imarray)"
   ]
  },
  {
   "cell_type": "code",
   "execution_count": null,
   "metadata": {
    "colab": {},
    "colab_type": "code",
    "id": "fA1JVE4dg36R"
   },
   "outputs": [],
   "source": [
    "im.show()"
   ]
  },
  {
   "cell_type": "code",
   "execution_count": null,
   "metadata": {
    "colab": {},
    "colab_type": "code",
    "id": "xLsoztQfg36U"
   },
   "outputs": [],
   "source": [
    "d = next(train_generator)\n",
    "print(d[0][0][0][0])"
   ]
  },
  {
   "cell_type": "code",
   "execution_count": null,
   "metadata": {
    "colab": {},
    "colab_type": "code",
    "id": "shIR-FbRg36V"
   },
   "outputs": [],
   "source": [
    "print(train_dir)"
   ]
  },
  {
   "cell_type": "code",
   "execution_count": null,
   "metadata": {
    "colab": {},
    "colab_type": "code",
    "id": "bRMNMNH_g36X"
   },
   "outputs": [],
   "source": [
    "W = np.ones((5,5))*2\n",
    "inp = np.ones((5, 5))*3\n",
    "inp = inp[None, ...]\n",
    "out = np.multiply(W, inp)\n",
    "print(out.shape)\n",
    "print(inp.shape)"
   ]
  },
  {
   "cell_type": "code",
   "execution_count": null,
   "metadata": {
    "colab": {},
    "colab_type": "code",
    "id": "E4obFvNMg36a"
   },
   "outputs": [],
   "source": [
    "print(out[2:])"
   ]
  },
  {
   "cell_type": "code",
   "execution_count": null,
   "metadata": {
    "colab": {},
    "colab_type": "code",
    "id": "JVlefmc6g36c"
   },
   "outputs": [],
   "source": [
    "A = np.ones((800,1800, 5))\n",
    "A_avg = np.sum(A, axis = 2)\n",
    "print(np.min(A_avg))"
   ]
  },
  {
   "cell_type": "code",
   "execution_count": null,
   "metadata": {
    "colab": {},
    "colab_type": "code",
    "id": "pIoM3dzyg36d"
   },
   "outputs": [],
   "source": [
    "array_dict = {'key1': np.zeros((10,10,10,10)), 'key2': 20, 'map_530': 25, 'map_all': 30}\n",
    "search_keys = ['map_530', 'key1']\n",
    "#filtered_dict = dict(filter(lambda item: search_key[0] search_key[1] in item[0], array_dict.items()))\n",
    "filtered_dict = {}\n",
    "for i in range(len(search_keys)):\n",
    "    search_key = search_keys[i]\n",
    "    if search_key in array_dict:\n",
    "        filtered_dict[search_key] = array_dict[search_key]"
   ]
  },
  {
   "cell_type": "code",
   "execution_count": null,
   "metadata": {
    "colab": {},
    "colab_type": "code",
    "id": "RGS-g6VHg36e"
   },
   "outputs": [],
   "source": [
    "print(filtered_dict)"
   ]
  },
  {
   "cell_type": "code",
   "execution_count": null,
   "metadata": {
    "colab": {},
    "colab_type": "code",
    "id": "EjmjmDVAg36g"
   },
   "outputs": [],
   "source": [
    "print(len(filtered_dict))"
   ]
  },
  {
   "cell_type": "code",
   "execution_count": 37,
   "metadata": {
    "colab": {},
    "colab_type": "code",
    "id": "PgfRNFBrg36h"
   },
   "outputs": [
    {
     "name": "stdout",
     "output_type": "stream",
     "text": [
      "5.037808862416426\n",
      "0.47774941874803667\n"
     ]
    }
   ],
   "source": [
    "A = np.random.randn(1000,2000)\n",
    "B = exposure.rescale_intensity(A, in_range='image', out_range=(0,1))\n",
    "print(np.max(A))\n",
    "print(np.mean(B))"
   ]
  },
  {
   "cell_type": "code",
   "execution_count": 150,
   "metadata": {},
   "outputs": [
    {
     "name": "stdout",
     "output_type": "stream",
     "text": [
      "(2, 10, 10)\n",
      "[[0. 0. 0. 0. 0. 0. 0. 0. 0. 0. 1. 1. 1. 1. 1. 1. 1. 1. 1. 1.]\n",
      " [0. 0. 0. 0. 0. 0. 0. 0. 0. 0. 1. 1. 1. 1. 1. 1. 1. 1. 1. 1.]\n",
      " [0. 0. 0. 0. 0. 0. 0. 0. 0. 0. 1. 1. 1. 1. 1. 1. 1. 1. 1. 1.]\n",
      " [0. 0. 0. 0. 0. 0. 0. 0. 0. 0. 1. 1. 1. 1. 1. 1. 1. 1. 1. 1.]\n",
      " [0. 0. 0. 0. 0. 0. 0. 0. 0. 0. 1. 1. 1. 1. 1. 1. 1. 1. 1. 1.]\n",
      " [0. 0. 0. 0. 0. 0. 0. 0. 0. 0. 1. 1. 1. 1. 1. 1. 1. 1. 1. 1.]\n",
      " [0. 0. 0. 0. 0. 0. 0. 0. 0. 0. 1. 1. 1. 1. 1. 1. 1. 1. 1. 1.]\n",
      " [0. 0. 0. 0. 0. 0. 0. 0. 0. 0. 1. 1. 1. 1. 1. 1. 1. 1. 1. 1.]\n",
      " [0. 0. 0. 0. 0. 0. 0. 0. 0. 0. 1. 1. 1. 1. 1. 1. 1. 1. 1. 1.]\n",
      " [0. 0. 0. 0. 0. 0. 0. 0. 0. 0. 1. 1. 1. 1. 1. 1. 1. 1. 1. 1.]]\n",
      "(200,)\n",
      "[0. 0. 0. 0. 0. 0. 0. 0. 0. 0. 1. 1. 1. 1. 1. 1. 1. 1. 1. 1. 0. 0. 0. 0.\n",
      " 0. 0. 0. 0. 0. 0. 1. 1. 1. 1. 1. 1. 1. 1. 1. 1. 0. 0. 0. 0. 0. 0. 0. 0.\n",
      " 0. 0. 1. 1. 1. 1. 1. 1. 1. 1. 1. 1. 0. 0. 0. 0. 0. 0. 0. 0. 0. 0. 1. 1.\n",
      " 1. 1. 1. 1. 1. 1. 1. 1. 0. 0. 0. 0. 0. 0. 0. 0. 0. 0. 1. 1. 1. 1. 1. 1.\n",
      " 1. 1. 1. 1. 0. 0. 0. 0. 0. 0. 0. 0. 0. 0. 1. 1. 1. 1. 1. 1. 1. 1. 1. 1.\n",
      " 0. 0. 0. 0. 0. 0. 0. 0. 0. 0. 1. 1. 1. 1. 1. 1. 1. 1. 1. 1. 0. 0. 0. 0.\n",
      " 0. 0. 0. 0. 0. 0. 1. 1. 1. 1. 1. 1. 1. 1. 1. 1. 0. 0. 0. 0. 0. 0. 0. 0.\n",
      " 0. 0. 1. 1. 1. 1. 1. 1. 1. 1. 1. 1. 0. 0. 0. 0. 0. 0. 0. 0. 0. 0. 1. 1.\n",
      " 1. 1. 1. 1. 1. 1. 1. 1.]\n"
     ]
    }
   ],
   "source": [
    "A = np.zeros((10,10))\n",
    "B = np.ones((10,10))\n",
    "C = np.array([A, B])\n",
    "print(C.shape)\n",
    "D = np.hstack(C)\n",
    "print(D)\n",
    "E = np.concatenate(D, axis = 0)\n",
    "print(E.shape)\n",
    "print(E)"
   ]
  },
  {
   "cell_type": "code",
   "execution_count": 67,
   "metadata": {},
   "outputs": [
    {
     "name": "stdout",
     "output_type": "stream",
     "text": [
      "0\n"
     ]
    }
   ],
   "source": [
    "print(int(tf.random.uniform(shape=[1], minval = 0, maxval = 5, dtype=tf.float32).numpy()[0]))"
   ]
  },
  {
   "cell_type": "code",
   "execution_count": 11,
   "metadata": {},
   "outputs": [
    {
     "name": "stdout",
     "output_type": "stream",
     "text": [
      "[3, 4, 5, 1, 2]\n",
      "[1, 3, 2, 5, 4]\n"
     ]
    }
   ],
   "source": [
    "A = [1,2,3,4,5]\n",
    "B = [1,2,3,4,5]\n",
    "random.seed(a=1)\n",
    "random.shuffle(A)\n",
    "random.shuffle(B)\n",
    "print(A)\n",
    "print(B)"
   ]
  },
  {
   "cell_type": "code",
   "execution_count": null,
   "metadata": {},
   "outputs": [],
   "source": []
  }
 ],
 "metadata": {
  "accelerator": "GPU",
  "colab": {
   "collapsed_sections": [],
   "name": "BME590L-ML_Imaging-Final_Project_Code.ipynb",
   "provenance": [],
   "toc_visible": true
  },
  "kernelspec": {
   "display_name": "Python 3",
   "language": "python",
   "name": "python3"
  },
  "language_info": {
   "codemirror_mode": {
    "name": "ipython",
    "version": 3
   },
   "file_extension": ".py",
   "mimetype": "text/x-python",
   "name": "python",
   "nbconvert_exporter": "python",
   "pygments_lexer": "ipython3",
   "version": "3.7.5"
  }
 },
 "nbformat": 4,
 "nbformat_minor": 4
}
